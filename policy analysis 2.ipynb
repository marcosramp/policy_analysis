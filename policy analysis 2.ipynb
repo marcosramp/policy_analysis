{
 "cells": [
  {
   "cell_type": "code",
   "execution_count": 647,
   "metadata": {},
   "outputs": [],
   "source": [
    "import pandas as pd\n",
    "import numpy as np\n",
    "import matplotlib.pyplot as plt\n",
    "%matplotlib inline"
   ]
  },
  {
   "cell_type": "code",
   "execution_count": 648,
   "metadata": {},
   "outputs": [],
   "source": [
    "df = pd.read_csv('apps_policy.csv')"
   ]
  },
  {
   "cell_type": "code",
   "execution_count": 649,
   "metadata": {},
   "outputs": [
    {
     "data": {
      "text/plain": [
       "(22977, 32)"
      ]
     },
     "execution_count": 649,
     "metadata": {},
     "output_type": "execute_result"
    }
   ],
   "source": [
    "df.shape"
   ]
  },
  {
   "cell_type": "code",
   "execution_count": 650,
   "metadata": {},
   "outputs": [],
   "source": [
    "## Create GLA buckets\n",
    "def f(df):\n",
    "    if df['gla'] < 75000:\n",
    "        val = 'a. < 75k'\n",
    "    elif df['gla'] < 250000:\n",
    "        val = 'b. 75k - 250k'\n",
    "    elif df['gla'] < 500000:\n",
    "        val = 'c. 250k - 500k'\n",
    "    elif df['gla'] < 1000000:\n",
    "        val = 'd. 500k - 1M'\n",
    "    elif df['gla'] >= 1000000:\n",
    "        val = 'e. 1M+'\n",
    "    else: val = 'error'\n",
    "    return val\n",
    "\n",
    "df['gla_buckets'] = df.apply(f, axis = 1)\n",
    "\n",
    "## Create inflow buckets\n",
    "def i(df):\n",
    "    if df['avg_3_month_revenue'] < 10000:\n",
    "        val = 'a. 0 - 10k'\n",
    "    elif df['avg_3_month_revenue'] < 25000:\n",
    "        val = 'b. 10k - 25k'\n",
    "    elif df['avg_3_month_revenue'] < 50000:\n",
    "        val = 'c. 25k - 50k'\n",
    "    elif df['avg_3_month_revenue'] < 100000:\n",
    "        val = 'd. 50k - 100k'\n",
    "    elif df['avg_3_month_revenue'] < 500000:\n",
    "        val = 'e. 100k - 500k'\n",
    "    elif df['avg_3_month_revenue'] >= 500000:\n",
    "        val = 'f. 500k+'\n",
    "    else: val = 'none'\n",
    "    return val\n",
    "\n",
    "df['inflow_buckets'] = df.apply(i, axis = 1)\n",
    "\n",
    "## Create sbfe buckets\n",
    "def s(df):\n",
    "    if df['sbfe_score'] < 800:\n",
    "        val = 'a. <800'\n",
    "    elif df['sbfe_score'] < 840:\n",
    "        val = 'b. 800-840'\n",
    "    elif df['sbfe_score'] < 860:\n",
    "        val = 'c. 840-860'\n",
    "    elif df['sbfe_score'] < 880:\n",
    "        val = 'd. 860-880'\n",
    "    elif df['sbfe_score'] >= 880:\n",
    "        val = 'e. 880+'\n",
    "    else: val = 'none'\n",
    "    return val\n",
    "\n",
    "df['sbfe_score_buckets'] = df.apply(s, axis = 1)"
   ]
  },
  {
   "cell_type": "code",
   "execution_count": 651,
   "metadata": {},
   "outputs": [
    {
     "data": {
      "text/plain": [
       "(2522, 38)"
      ]
     },
     "execution_count": 651,
     "metadata": {},
     "output_type": "execute_result"
    }
   ],
   "source": [
    "##Additional fields\n",
    "df['Date'] = pd.to_datetime(df.fa_submitted_at)\n",
    "df['approved_limit'] = df['gla'] *0.1\n",
    "df['val'] = 1\n",
    "\n",
    "## get only Sept submissions\n",
    "submitted = df.loc[(df['fa_status'] != 'Pending')\n",
    "                & (df['Date'] >= '2021-08-01') & (df['Date'] <= '2021-09-30') \n",
    "#                 ##& ((df['business_policy_type'] == 'STANDARD_POLICY') | (df['business_policy_type'].isnull()) \n",
    "# #                   ## & (df['fa_rejection_reason'] != 'Suspected fraud'))\n",
    "                  ]\n",
    "\n",
    "submitted.shape"
   ]
  },
  {
   "cell_type": "code",
   "execution_count": 652,
   "metadata": {},
   "outputs": [
    {
     "data": {
      "text/plain": [
       "(2459, 38)"
      ]
     },
     "execution_count": 652,
     "metadata": {},
     "output_type": "execute_result"
    }
   ],
   "source": [
    "## resolved (i.e., not in a pending state = 'docs required/submitted or kyc approved')\n",
    "not_pending = ((submitted['fa_status'] != 'DOCUMENTS_SUBMITTED') & (submitted['fa_status'] != 'DOCUMENTS_REQUIRED') \n",
    "               & (submitted['fa_status'] != 'KYC Approved') & (submitted['fa_status'] != 'OPS_REVIEW')\n",
    "               & (submitted['fa_status'] != 'Submitted'))\n",
    "submitted = submitted.loc[not_pending]\n",
    "submitted.shape"
   ]
  },
  {
   "cell_type": "code",
   "execution_count": 653,
   "metadata": {},
   "outputs": [
    {
     "data": {
      "text/plain": [
       "(2422, 38)"
      ]
     },
     "execution_count": 653,
     "metadata": {},
     "output_type": "execute_result"
    }
   ],
   "source": [
    "## rejected due to fraud\n",
    "exclude_fraud = submitted['fa_rejection_reason'] != 'Suspected fraud'\n",
    "submitted = submitted.loc[exclude_fraud]\n",
    "submitted.shape"
   ]
  },
  {
   "cell_type": "code",
   "execution_count": 654,
   "metadata": {},
   "outputs": [
    {
     "data": {
      "text/plain": [
       "Rejected          1423\n",
       "Admin Approved     958\n",
       "Withdrawn           41\n",
       "Name: fa_status, dtype: int64"
      ]
     },
     "execution_count": 654,
     "metadata": {},
     "output_type": "execute_result"
    }
   ],
   "source": [
    "submitted['fa_status'].value_counts()"
   ]
  },
  {
   "cell_type": "code",
   "execution_count": 655,
   "metadata": {},
   "outputs": [
    {
     "data": {
      "text/plain": [
       "(2231, 38)"
      ]
     },
     "execution_count": 655,
     "metadata": {},
     "output_type": "execute_result"
    }
   ],
   "source": [
    "## approved as SESA/YC/VIP\n",
    "sesa_yc_vip = ((submitted['business_policy_type'] != 'SESA') & (submitted['business_policy_type'] != 'YC') & (submitted['business_policy_type'] != 'VIP'))\n",
    "submitted = submitted.loc[sesa_yc_vip]\n",
    "submitted.shape"
   ]
  },
  {
   "cell_type": "code",
   "execution_count": 687,
   "metadata": {},
   "outputs": [
    {
     "data": {
      "text/plain": [
       "Rejected          1423\n",
       "Admin Approved     767\n",
       "Withdrawn           41\n",
       "Name: fa_status, dtype: int64"
      ]
     },
     "execution_count": 687,
     "metadata": {},
     "output_type": "execute_result"
    }
   ],
   "source": [
    "submitted['fa_status'].value_counts()"
   ]
  },
  {
   "cell_type": "code",
   "execution_count": 656,
   "metadata": {},
   "outputs": [
    {
     "data": {
      "text/plain": [
       "(709, 38)"
      ]
     },
     "execution_count": 656,
     "metadata": {},
     "output_type": "execute_result"
    }
   ],
   "source": [
    "# approved not on exception\n",
    "approved_not_on_exception = (((submitted['scorecard_approved'] == 1) | (submitted['bureau_approved'] == 1)) & (submitted['fa_status'] == 'Admin Approved'))\n",
    "approved_noe_df = submitted.loc[approved_not_on_exception]\n",
    "approved_noe_df.shape"
   ]
  },
  {
   "cell_type": "code",
   "execution_count": 657,
   "metadata": {},
   "outputs": [
    {
     "data": {
      "text/plain": [
       "(58, 38)"
      ]
     },
     "execution_count": 657,
     "metadata": {},
     "output_type": "execute_result"
    }
   ],
   "source": [
    "## approved on exception\n",
    "approved_on_exception = (((submitted['scorecard_approved'] == 0) & (submitted['bureau_approved'] == 0)) & (submitted['fa_status'] == 'Admin Approved'))\n",
    "approved_oe_df = submitted.loc[approved_on_exception]\n",
    "approved_oe_df.shape"
   ]
  },
  {
   "cell_type": "code",
   "execution_count": 718,
   "metadata": {},
   "outputs": [
    {
     "data": {
      "text/html": [
       "<div>\n",
       "<style scoped>\n",
       "    .dataframe tbody tr th:only-of-type {\n",
       "        vertical-align: middle;\n",
       "    }\n",
       "\n",
       "    .dataframe tbody tr th {\n",
       "        vertical-align: top;\n",
       "    }\n",
       "\n",
       "    .dataframe thead th {\n",
       "        text-align: right;\n",
       "    }\n",
       "</style>\n",
       "<table border=\"1\" class=\"dataframe\">\n",
       "  <thead>\n",
       "    <tr style=\"text-align: right;\">\n",
       "      <th></th>\n",
       "      <th>fa_id</th>\n",
       "    </tr>\n",
       "    <tr>\n",
       "      <th>gla_buckets</th>\n",
       "      <th></th>\n",
       "    </tr>\n",
       "  </thead>\n",
       "  <tbody>\n",
       "    <tr>\n",
       "      <th>a. &lt; 75k</th>\n",
       "      <td>27</td>\n",
       "    </tr>\n",
       "    <tr>\n",
       "      <th>b. 75k - 250k</th>\n",
       "      <td>131</td>\n",
       "    </tr>\n",
       "    <tr>\n",
       "      <th>c. 250k - 500k</th>\n",
       "      <td>157</td>\n",
       "    </tr>\n",
       "    <tr>\n",
       "      <th>d. 500k - 1M</th>\n",
       "      <td>152</td>\n",
       "    </tr>\n",
       "    <tr>\n",
       "      <th>e. 1M+</th>\n",
       "      <td>300</td>\n",
       "    </tr>\n",
       "  </tbody>\n",
       "</table>\n",
       "</div>"
      ],
      "text/plain": [
       "                fa_id\n",
       "gla_buckets          \n",
       "a. < 75k           27\n",
       "b. 75k - 250k     131\n",
       "c. 250k - 500k    157\n",
       "d. 500k - 1M      152\n",
       "e. 1M+            300"
      ]
     },
     "execution_count": 718,
     "metadata": {},
     "output_type": "execute_result"
    }
   ],
   "source": [
    "submitted.loc[submitted['fa_status'] =='Admin Approved'][['gla_buckets', 'fa_id']].groupby('gla_buckets').count()"
   ]
  },
  {
   "cell_type": "code",
   "execution_count": 659,
   "metadata": {},
   "outputs": [
    {
     "data": {
      "text/plain": [
       "(1464, 38)"
      ]
     },
     "execution_count": 659,
     "metadata": {},
     "output_type": "execute_result"
    }
   ],
   "source": [
    "## Remaining rejected apps\n",
    "remaining_rejected = ((submitted['fa_status'].isin(['Rejected', 'Withdrawn'])))\n",
    "rejected_df = submitted.loc[remaining_rejected]\n",
    "rejected_df.shape"
   ]
  },
  {
   "cell_type": "code",
   "execution_count": 660,
   "metadata": {},
   "outputs": [
    {
     "data": {
      "text/plain": [
       "(228, 38)"
      ]
     },
     "execution_count": 660,
     "metadata": {},
     "output_type": "execute_result"
    }
   ],
   "source": [
    "## GLA >= $75k OR <= $250K\n",
    "gla_75_250k = ((rejected_df['gla'] >= 75000) & (rejected_df['gla'] < 250000))\n",
    "gla_df = rejected_df[gla_75_250k]\n",
    "gla_df.shape"
   ]
  },
  {
   "cell_type": "code",
   "execution_count": 661,
   "metadata": {},
   "outputs": [],
   "source": [
    "## Remaining\n",
    "remaining = gla_df"
   ]
  },
  {
   "cell_type": "markdown",
   "metadata": {},
   "source": [
    "### Bureau + Comp"
   ]
  },
  {
   "cell_type": "code",
   "execution_count": 662,
   "metadata": {},
   "outputs": [
    {
     "data": {
      "text/plain": [
       "(154, 38)"
      ]
     },
     "execution_count": 662,
     "metadata": {},
     "output_type": "execute_result"
    }
   ],
   "source": [
    "## have a confirmed bureau_record\n",
    "confirmed_bureau = remaining['is_confirmed'].notnull()\n",
    "confirmed_bureau_df = remaining[confirmed_bureau]\n",
    "confirmed_bureau_df.shape"
   ]
  },
  {
   "cell_type": "code",
   "execution_count": 663,
   "metadata": {},
   "outputs": [
    {
     "data": {
      "text/plain": [
       "(9, 38)"
      ]
     },
     "execution_count": 663,
     "metadata": {},
     "output_type": "execute_result"
    }
   ],
   "source": [
    "## pass bureau policy but rejected on exception (incomplete application information, personal funds got them over $75k, very short runway, withdrawn, etc..)\n",
    "pass_bureau_policy = confirmed_bureau_df['bureau_approved'] == 1\n",
    "pass_bureau_df = confirmed_bureau_df.loc[pass_bureau_policy]\n",
    "pass_bureau_df.shape\n",
    "## uncomment to see who and why\n",
    "#pass_bureau_df[['fa_id','fa_status', 'fa_rejection_reason']]"
   ]
  },
  {
   "cell_type": "code",
   "execution_count": 664,
   "metadata": {},
   "outputs": [
    {
     "data": {
      "text/plain": [
       "(145, 38)"
      ]
     },
     "execution_count": 664,
     "metadata": {},
     "output_type": "execute_result"
    }
   ],
   "source": [
    "## don't pass bureau_policy\n",
    "no_pass_bureau_policy = confirmed_bureau_df['bureau_approved'] != 1\n",
    "no_pass_bureau_df = confirmed_bureau_df.loc[no_pass_bureau_policy]\n",
    "no_pass_bureau_df.shape"
   ]
  },
  {
   "cell_type": "code",
   "execution_count": 688,
   "metadata": {},
   "outputs": [
    {
     "data": {
      "text/plain": [
       "(93, 38)"
      ]
     },
     "execution_count": 688,
     "metadata": {},
     "output_type": "execute_result"
    }
   ],
   "source": [
    "## fail due to sbfe\n",
    "fail_sbfe = (no_pass_bureau_df['sbfe_score'] < 880) | (no_pass_bureau_df['sbfe_score'].isnull())\n",
    "sbfe_fail = no_pass_bureau_df.loc[fail_sbfe]\n",
    "sbfe_fail.shape"
   ]
  },
  {
   "cell_type": "code",
   "execution_count": 693,
   "metadata": {},
   "outputs": [
    {
     "data": {
      "text/plain": [
       "(1, 38)"
      ]
     },
     "execution_count": 693,
     "metadata": {},
     "output_type": "execute_result"
    }
   ],
   "source": [
    "## remaining that fail dq\n",
    "fail_dq = ((no_pass_bureau_df['sbfe_score'] >= 880) & (no_pass_bureau_df['sbfe_score'].notnull())) & ((no_pass_bureau_df['dpd_30_balance'] >= 1000) & (no_pass_bureau_df['dpd_30_balance'].notnull()))\n",
    "fail_dq_df = no_pass_bureau_df.loc[fail_dq]\n",
    "fail_dq_df.shape"
   ]
  },
  {
   "cell_type": "code",
   "execution_count": 694,
   "metadata": {},
   "outputs": [
    {
     "data": {
      "text/plain": [
       "(51, 38)"
      ]
     },
     "execution_count": 694,
     "metadata": {},
     "output_type": "execute_result"
    }
   ],
   "source": [
    "## remaining that fail bureau_limit\n",
    "fail_limit = ((no_pass_bureau_df['sbfe_score'] >= 880) & (no_pass_bureau_df['sbfe_score'].notnull())) & ((no_pass_bureau_df['dpd_30_balance'] < 1000) | (no_pass_bureau_df['dpd_30_balance'].isnull()))\n",
    "fail_limit_df = no_pass_bureau_df.loc[fail_limit]\n",
    "fail_limit_df.shape"
   ]
  },
  {
   "cell_type": "code",
   "execution_count": 695,
   "metadata": {},
   "outputs": [
    {
     "data": {
      "text/plain": [
       "(9, 38)"
      ]
     },
     "execution_count": 695,
     "metadata": {},
     "output_type": "execute_result"
    }
   ],
   "source": [
    "## incremental approvals using competitor spend\n",
    "have_comp_spend = no_pass_bureau_df['competitor_avg_3_month_spend'] >= 10000\n",
    "incremental_approval_comp_df = fail_limit_df.loc[have_comp_spend]\n",
    "incremental_approval_comp_df.shape\n",
    "#see why they were rejected. almost all because of GLA!\n",
    "#incremental_approval_comp_df[['fa_id','sbfe_score', 'dpd_30_balance', 'bureau_max_credit_limit', 'competitor_avg_3_month_spend', 'fa_rejection_reason']]"
   ]
  },
  {
   "cell_type": "code",
   "execution_count": 705,
   "metadata": {},
   "outputs": [
    {
     "data": {
      "text/plain": [
       "fa_id                           20711.428571\n",
       "competitor_avg_3_month_spend     4311.330595\n",
       "dtype: float64"
      ]
     },
     "execution_count": 705,
     "metadata": {},
     "output_type": "execute_result"
    }
   ],
   "source": [
    "no_comp_spend = no_pass_bureau_df['competitor_avg_3_month_spend'] < 10000\n",
    "no_spend = fail_limit_df.loc[no_comp_spend]\n",
    "no_spend[['fa_id','competitor_avg_3_month_spend']].mean()"
   ]
  },
  {
   "cell_type": "markdown",
   "metadata": {},
   "source": [
    "### Scorecard Approvals excluding incrementals from bureau + comp"
   ]
  },
  {
   "cell_type": "code",
   "execution_count": 669,
   "metadata": {},
   "outputs": [
    {
     "data": {
      "text/plain": [
       "(219, 38)"
      ]
     },
     "execution_count": 669,
     "metadata": {},
     "output_type": "execute_result"
    }
   ],
   "source": [
    "scorecard_remaining = remaining.loc[~remaining['fa_id'].index.isin(incremental_approval_comp_df['fa_id'].index)]\n",
    "scorecard_remaining.shape"
   ]
  },
  {
   "cell_type": "code",
   "execution_count": 670,
   "metadata": {},
   "outputs": [
    {
     "data": {
      "text/html": [
       "<div>\n",
       "<style scoped>\n",
       "    .dataframe tbody tr th:only-of-type {\n",
       "        vertical-align: middle;\n",
       "    }\n",
       "\n",
       "    .dataframe tbody tr th {\n",
       "        vertical-align: top;\n",
       "    }\n",
       "\n",
       "    .dataframe thead th {\n",
       "        text-align: right;\n",
       "    }\n",
       "</style>\n",
       "<table border=\"1\" class=\"dataframe\">\n",
       "  <thead>\n",
       "    <tr style=\"text-align: right;\">\n",
       "      <th></th>\n",
       "      <th>fa_id</th>\n",
       "    </tr>\n",
       "    <tr>\n",
       "      <th>connection_type</th>\n",
       "      <th></th>\n",
       "    </tr>\n",
       "  </thead>\n",
       "  <tbody>\n",
       "    <tr>\n",
       "      <th>Direct Connection</th>\n",
       "      <td>140</td>\n",
       "    </tr>\n",
       "    <tr>\n",
       "      <th>Manual Connection</th>\n",
       "      <td>79</td>\n",
       "    </tr>\n",
       "  </tbody>\n",
       "</table>\n",
       "</div>"
      ],
      "text/plain": [
       "                   fa_id\n",
       "connection_type         \n",
       "Direct Connection    140\n",
       "Manual Connection     79"
      ]
     },
     "execution_count": 670,
     "metadata": {},
     "output_type": "execute_result"
    }
   ],
   "source": [
    "scorecard_remaining[['connection_type','fa_id']].groupby('connection_type').count()"
   ]
  },
  {
   "cell_type": "code",
   "execution_count": 671,
   "metadata": {},
   "outputs": [
    {
     "data": {
      "text/plain": [
       "(177, 38)"
      ]
     },
     "execution_count": 671,
     "metadata": {},
     "output_type": "execute_result"
    }
   ],
   "source": [
    "## Scorecard approvals\n",
    "scorecard_approved = scorecard_remaining['scorecard_approved'] == 1\n",
    "scorecard_approved_df = scorecard_remaining[scorecard_approved]\n",
    "scorecard_approved_df.shape"
   ]
  },
  {
   "cell_type": "code",
   "execution_count": 672,
   "metadata": {},
   "outputs": [
    {
     "data": {
      "text/html": [
       "<div>\n",
       "<style scoped>\n",
       "    .dataframe tbody tr th:only-of-type {\n",
       "        vertical-align: middle;\n",
       "    }\n",
       "\n",
       "    .dataframe tbody tr th {\n",
       "        vertical-align: top;\n",
       "    }\n",
       "\n",
       "    .dataframe thead th {\n",
       "        text-align: right;\n",
       "    }\n",
       "</style>\n",
       "<table border=\"1\" class=\"dataframe\">\n",
       "  <thead>\n",
       "    <tr style=\"text-align: right;\">\n",
       "      <th></th>\n",
       "      <th>fa_id</th>\n",
       "    </tr>\n",
       "    <tr>\n",
       "      <th>connection_type</th>\n",
       "      <th></th>\n",
       "    </tr>\n",
       "  </thead>\n",
       "  <tbody>\n",
       "    <tr>\n",
       "      <th>Direct Connection</th>\n",
       "      <td>105</td>\n",
       "    </tr>\n",
       "    <tr>\n",
       "      <th>Manual Connection</th>\n",
       "      <td>72</td>\n",
       "    </tr>\n",
       "  </tbody>\n",
       "</table>\n",
       "</div>"
      ],
      "text/plain": [
       "                   fa_id\n",
       "connection_type         \n",
       "Direct Connection    105\n",
       "Manual Connection     72"
      ]
     },
     "execution_count": 672,
     "metadata": {},
     "output_type": "execute_result"
    }
   ],
   "source": [
    "scorecard_approved_df[['connection_type','fa_id']].groupby('connection_type').count()"
   ]
  },
  {
   "cell_type": "code",
   "execution_count": 707,
   "metadata": {},
   "outputs": [
    {
     "data": {
      "text/plain": [
       "(105, 38)"
      ]
     },
     "execution_count": 707,
     "metadata": {},
     "output_type": "execute_result"
    }
   ],
   "source": [
    "directly_connected = scorecard_approved_df['connection_type'] == 'Direct Connection'\n",
    "scorecard_approved_df_direct = scorecard_approved_df.loc[directly_connected]\n",
    "scorecard_approved_df_direct.shape"
   ]
  },
  {
   "cell_type": "code",
   "execution_count": 710,
   "metadata": {},
   "outputs": [
    {
     "data": {
      "text/plain": [
       "(63, 38)"
      ]
     },
     "execution_count": 710,
     "metadata": {},
     "output_type": "execute_result"
    }
   ],
   "source": [
    "#has more than 100 trxns\n",
    "trxns = (scorecard_approved_df_direct['all_trxns'] >= 100)\n",
    "scorecard_approved_df_direct = scorecard_approved_df_direct.loc[trxns]\n",
    "scorecard_approved_df_direct.shape"
   ]
  },
  {
   "cell_type": "code",
   "execution_count": 711,
   "metadata": {},
   "outputs": [
    {
     "data": {
      "text/html": [
       "<div>\n",
       "<style scoped>\n",
       "    .dataframe tbody tr th:only-of-type {\n",
       "        vertical-align: middle;\n",
       "    }\n",
       "\n",
       "    .dataframe tbody tr th {\n",
       "        vertical-align: top;\n",
       "    }\n",
       "\n",
       "    .dataframe thead th {\n",
       "        text-align: right;\n",
       "    }\n",
       "</style>\n",
       "<table border=\"1\" class=\"dataframe\">\n",
       "  <thead>\n",
       "    <tr style=\"text-align: right;\">\n",
       "      <th>inflow_buckets</th>\n",
       "      <th>a. 0 - 10k</th>\n",
       "      <th>b. 10k - 25k</th>\n",
       "      <th>c. 25k - 50k</th>\n",
       "      <th>d. 50k - 100k</th>\n",
       "      <th>e. 100k - 500k</th>\n",
       "      <th>f. 500k+</th>\n",
       "    </tr>\n",
       "    <tr>\n",
       "      <th>risk_score</th>\n",
       "      <th></th>\n",
       "      <th></th>\n",
       "      <th></th>\n",
       "      <th></th>\n",
       "      <th></th>\n",
       "      <th></th>\n",
       "    </tr>\n",
       "  </thead>\n",
       "  <tbody>\n",
       "    <tr>\n",
       "      <th>0.0</th>\n",
       "      <td>NaN</td>\n",
       "      <td>3.0</td>\n",
       "      <td>1.0</td>\n",
       "      <td>5.0</td>\n",
       "      <td>2.0</td>\n",
       "      <td>NaN</td>\n",
       "    </tr>\n",
       "    <tr>\n",
       "      <th>3.0</th>\n",
       "      <td>3.0</td>\n",
       "      <td>2.0</td>\n",
       "      <td>6.0</td>\n",
       "      <td>7.0</td>\n",
       "      <td>12.0</td>\n",
       "      <td>2.0</td>\n",
       "    </tr>\n",
       "    <tr>\n",
       "      <th>6.0</th>\n",
       "      <td>1.0</td>\n",
       "      <td>NaN</td>\n",
       "      <td>2.0</td>\n",
       "      <td>3.0</td>\n",
       "      <td>8.0</td>\n",
       "      <td>NaN</td>\n",
       "    </tr>\n",
       "    <tr>\n",
       "      <th>8.0</th>\n",
       "      <td>NaN</td>\n",
       "      <td>NaN</td>\n",
       "      <td>NaN</td>\n",
       "      <td>NaN</td>\n",
       "      <td>1.0</td>\n",
       "      <td>NaN</td>\n",
       "    </tr>\n",
       "    <tr>\n",
       "      <th>9.0</th>\n",
       "      <td>NaN</td>\n",
       "      <td>NaN</td>\n",
       "      <td>NaN</td>\n",
       "      <td>1.0</td>\n",
       "      <td>2.0</td>\n",
       "      <td>2.0</td>\n",
       "    </tr>\n",
       "  </tbody>\n",
       "</table>\n",
       "</div>"
      ],
      "text/plain": [
       "inflow_buckets  a. 0 - 10k  b. 10k - 25k  c. 25k - 50k  d. 50k - 100k  \\\n",
       "risk_score                                                              \n",
       "0.0                    NaN           3.0           1.0            5.0   \n",
       "3.0                    3.0           2.0           6.0            7.0   \n",
       "6.0                    1.0           NaN           2.0            3.0   \n",
       "8.0                    NaN           NaN           NaN            NaN   \n",
       "9.0                    NaN           NaN           NaN            1.0   \n",
       "\n",
       "inflow_buckets  e. 100k - 500k  f. 500k+  \n",
       "risk_score                                \n",
       "0.0                        2.0       NaN  \n",
       "3.0                       12.0       2.0  \n",
       "6.0                        8.0       NaN  \n",
       "8.0                        1.0       NaN  \n",
       "9.0                        2.0       2.0  "
      ]
     },
     "execution_count": 711,
     "metadata": {},
     "output_type": "execute_result"
    }
   ],
   "source": [
    "#pivot risk score against inflows for directly connected apps\n",
    "table = pd.pivot_table(scorecard_approved_df_direct, index='risk_score', columns='inflow_buckets', values='val', aggfunc=np.sum )\n",
    "table"
   ]
  },
  {
   "cell_type": "code",
   "execution_count": 712,
   "metadata": {},
   "outputs": [
    {
     "data": {
      "text/html": [
       "<div>\n",
       "<style scoped>\n",
       "    .dataframe tbody tr th:only-of-type {\n",
       "        vertical-align: middle;\n",
       "    }\n",
       "\n",
       "    .dataframe tbody tr th {\n",
       "        vertical-align: top;\n",
       "    }\n",
       "\n",
       "    .dataframe thead th {\n",
       "        text-align: right;\n",
       "    }\n",
       "</style>\n",
       "<table border=\"1\" class=\"dataframe\">\n",
       "  <thead>\n",
       "    <tr style=\"text-align: right;\">\n",
       "      <th>inflow_buckets</th>\n",
       "      <th>a. 0 - 10k</th>\n",
       "      <th>b. 10k - 25k</th>\n",
       "      <th>c. 25k - 50k</th>\n",
       "      <th>d. 50k - 100k</th>\n",
       "      <th>e. 100k - 500k</th>\n",
       "      <th>f. 500k+</th>\n",
       "      <th>none</th>\n",
       "    </tr>\n",
       "    <tr>\n",
       "      <th>risk_score</th>\n",
       "      <th></th>\n",
       "      <th></th>\n",
       "      <th></th>\n",
       "      <th></th>\n",
       "      <th></th>\n",
       "      <th></th>\n",
       "      <th></th>\n",
       "    </tr>\n",
       "  </thead>\n",
       "  <tbody>\n",
       "    <tr>\n",
       "      <th>0.0</th>\n",
       "      <td>NaN</td>\n",
       "      <td>NaN</td>\n",
       "      <td>4.0</td>\n",
       "      <td>5.0</td>\n",
       "      <td>5.0</td>\n",
       "      <td>NaN</td>\n",
       "      <td>22.0</td>\n",
       "    </tr>\n",
       "    <tr>\n",
       "      <th>3.0</th>\n",
       "      <td>1.0</td>\n",
       "      <td>1.0</td>\n",
       "      <td>NaN</td>\n",
       "      <td>5.0</td>\n",
       "      <td>4.0</td>\n",
       "      <td>4.0</td>\n",
       "      <td>3.0</td>\n",
       "    </tr>\n",
       "    <tr>\n",
       "      <th>5.0</th>\n",
       "      <td>NaN</td>\n",
       "      <td>NaN</td>\n",
       "      <td>NaN</td>\n",
       "      <td>NaN</td>\n",
       "      <td>1.0</td>\n",
       "      <td>NaN</td>\n",
       "      <td>NaN</td>\n",
       "    </tr>\n",
       "    <tr>\n",
       "      <th>6.0</th>\n",
       "      <td>NaN</td>\n",
       "      <td>NaN</td>\n",
       "      <td>1.0</td>\n",
       "      <td>NaN</td>\n",
       "      <td>5.0</td>\n",
       "      <td>1.0</td>\n",
       "      <td>3.0</td>\n",
       "    </tr>\n",
       "    <tr>\n",
       "      <th>8.0</th>\n",
       "      <td>NaN</td>\n",
       "      <td>NaN</td>\n",
       "      <td>NaN</td>\n",
       "      <td>NaN</td>\n",
       "      <td>NaN</td>\n",
       "      <td>NaN</td>\n",
       "      <td>1.0</td>\n",
       "    </tr>\n",
       "    <tr>\n",
       "      <th>13.0</th>\n",
       "      <td>NaN</td>\n",
       "      <td>NaN</td>\n",
       "      <td>NaN</td>\n",
       "      <td>3.0</td>\n",
       "      <td>2.0</td>\n",
       "      <td>1.0</td>\n",
       "      <td>1.0</td>\n",
       "    </tr>\n",
       "    <tr>\n",
       "      <th>16.0</th>\n",
       "      <td>NaN</td>\n",
       "      <td>1.0</td>\n",
       "      <td>1.0</td>\n",
       "      <td>NaN</td>\n",
       "      <td>2.0</td>\n",
       "      <td>2.0</td>\n",
       "      <td>5.0</td>\n",
       "    </tr>\n",
       "    <tr>\n",
       "      <th>19.0</th>\n",
       "      <td>NaN</td>\n",
       "      <td>NaN</td>\n",
       "      <td>NaN</td>\n",
       "      <td>NaN</td>\n",
       "      <td>NaN</td>\n",
       "      <td>2.0</td>\n",
       "      <td>NaN</td>\n",
       "    </tr>\n",
       "    <tr>\n",
       "      <th>29.0</th>\n",
       "      <td>NaN</td>\n",
       "      <td>NaN</td>\n",
       "      <td>NaN</td>\n",
       "      <td>NaN</td>\n",
       "      <td>1.0</td>\n",
       "      <td>NaN</td>\n",
       "      <td>NaN</td>\n",
       "    </tr>\n",
       "  </tbody>\n",
       "</table>\n",
       "</div>"
      ],
      "text/plain": [
       "inflow_buckets  a. 0 - 10k  b. 10k - 25k  c. 25k - 50k  d. 50k - 100k  \\\n",
       "risk_score                                                              \n",
       "0.0                    NaN           NaN           4.0            5.0   \n",
       "3.0                    1.0           1.0           NaN            5.0   \n",
       "5.0                    NaN           NaN           NaN            NaN   \n",
       "6.0                    NaN           NaN           1.0            NaN   \n",
       "8.0                    NaN           NaN           NaN            NaN   \n",
       "13.0                   NaN           NaN           NaN            3.0   \n",
       "16.0                   NaN           1.0           1.0            NaN   \n",
       "19.0                   NaN           NaN           NaN            NaN   \n",
       "29.0                   NaN           NaN           NaN            NaN   \n",
       "\n",
       "inflow_buckets  e. 100k - 500k  f. 500k+  none  \n",
       "risk_score                                      \n",
       "0.0                        5.0       NaN  22.0  \n",
       "3.0                        4.0       4.0   3.0  \n",
       "5.0                        1.0       NaN   NaN  \n",
       "6.0                        5.0       1.0   3.0  \n",
       "8.0                        NaN       NaN   1.0  \n",
       "13.0                       2.0       1.0   1.0  \n",
       "16.0                       2.0       2.0   5.0  \n",
       "19.0                       NaN       2.0   NaN  \n",
       "29.0                       1.0       NaN   NaN  "
      ]
     },
     "execution_count": 712,
     "metadata": {},
     "output_type": "execute_result"
    }
   ],
   "source": [
    "#What does this look like for approved businesses\n",
    "all_approvals = submitted.loc[(submitted['fa_status'] == 'Admin Approved') \n",
    "                             & (submitted['connection_type'] == 'Direct Connection')\n",
    "                             & (submitted['gla'] >= 75000) & (submitted['gla'] < 250000)]\n",
    "table = pd.pivot_table(all_approvals, index='risk_score', columns='inflow_buckets', values='val', aggfunc=np.sum )\n",
    "table"
   ]
  },
  {
   "cell_type": "code",
   "execution_count": 713,
   "metadata": {},
   "outputs": [],
   "source": [
    "##plots of risk segment and score\n",
    "score_segment_plot = scorecard_approved_df_direct[['risk_segment', 'risk_score', 'fa_id']].groupby(['risk_segment', 'risk_score']).count()\n",
    "risk_score_plot = scorecard_approved_df_direct[['risk_score', 'fa_id']].groupby(['risk_score']).count()\n",
    "risk_segment_plot = scorecard_approved_df_direct[['risk_segment', 'fa_id']].groupby(['risk_segment']).count()\n",
    "# risk_score_plot\n",
    "#score_segment_plot\n",
    "# score_segment_plot.plot.bar()\n",
    "# risk_score_plot.plot.bar()\n",
    "# risk_segment_plot.plot.bar()"
   ]
  },
  {
   "cell_type": "markdown",
   "metadata": {},
   "source": [
    "#### Drawing a line in the sand\n",
    "\n",
    "- Approve everything with either a risk score in (0, 3) OR a (risk_score in = 6 AND inflows >= 50k)\n",
    "- AND that has been in business for >= 2 years"
   ]
  },
  {
   "cell_type": "code",
   "execution_count": 714,
   "metadata": {},
   "outputs": [
    {
     "data": {
      "text/plain": [
       "(41, 38)"
      ]
     },
     "execution_count": 714,
     "metadata": {},
     "output_type": "execute_result"
    }
   ],
   "source": [
    "incremental_approvals_scorecard_inflows_df = scorecard_approved_df_direct.loc[(((scorecard_approved_df_direct['risk_score'].isin([0,3])) \n",
    "                                                                               | ((scorecard_approved_df_direct['risk_score'] == 6) \n",
    "                                                                                 & (scorecard_approved_df_direct['avg_3_month_revenue'] >= 50000)))\n",
    "                                                                              & (scorecard_approved_df_direct['tib_years'] >= 2))]\n",
    "incremental_approvals_scorecard_inflows_df[['fa_id', 'risk_score','avg_3_month_revenue', 'tib_years' ]]\n",
    "incremental_approvals_scorecard_inflows_df.shape"
   ]
  },
  {
   "cell_type": "markdown",
   "metadata": {},
   "source": [
    "#### Results\n",
    "- This is 69/105 or 65% incremental approval on the rejected apps\n",
    "- We should apply this percentage to the manually connected 72 + the scorecard_approved percent, so we get 72*0.3*0.65 and we get 14 additional\n",
    "- So a total of 83 on 177 scorecard approved apps\n",
    "- Or a total of 83 on 219 remaining apps, 38%"
   ]
  },
  {
   "cell_type": "markdown",
   "metadata": {},
   "source": [
    "### Lower bureau SBFE score excluding bureau + comp and scorecard_approvls"
   ]
  },
  {
   "cell_type": "code",
   "execution_count": 683,
   "metadata": {},
   "outputs": [
    {
     "data": {
      "text/plain": [
       "(178, 38)"
      ]
     },
     "execution_count": 683,
     "metadata": {},
     "output_type": "execute_result"
    }
   ],
   "source": [
    "bureau_remaining = scorecard_remaining.loc[~scorecard_remaining['fa_id'].index.isin(incremental_approvals_scorecard_inflows_df['fa_id'].index)]\n",
    "bureau_remaining.shape"
   ]
  },
  {
   "cell_type": "code",
   "execution_count": 684,
   "metadata": {},
   "outputs": [
    {
     "data": {
      "text/plain": [
       "(118, 38)"
      ]
     },
     "execution_count": 684,
     "metadata": {},
     "output_type": "execute_result"
    }
   ],
   "source": [
    "## have a confirmed bureau_record\n",
    "confirmed_bureau_c = bureau_remaining['is_confirmed'].notnull()\n",
    "confirmed_bureau_c_df = bureau_remaining[confirmed_bureau_c]\n",
    "confirmed_bureau_c_df.shape"
   ]
  },
  {
   "cell_type": "code",
   "execution_count": 720,
   "metadata": {},
   "outputs": [
    {
     "data": {
      "text/plain": [
       "(22, 38)"
      ]
     },
     "execution_count": 720,
     "metadata": {},
     "output_type": "execute_result"
    }
   ],
   "source": [
    "pass_dq = ((confirmed_bureau_c_df['dpd_30_balance'] < 1000) | (confirmed_bureau_c_df['dpd_30_balance'].isnull()))\n",
    "pass_limit = ((confirmed_bureau_c_df['competitor_avg_3_month_spend'] >= 10000) | (confirmed_bureau_c_df['bureau_max_credit_limit'] >= 10000))\n",
    "pass_bureau = (confirmed_bureau_c_df['sbfe_score'] < 880)\n",
    "pass_bureau_except_sbfe = confirmed_bureau_c_df.loc[(pass_dq) & (pass_limit) & (pass_bureau)]\n",
    "pass_bureau_except_sbfe.shape"
   ]
  },
  {
   "cell_type": "code",
   "execution_count": 721,
   "metadata": {},
   "outputs": [
    {
     "data": {
      "text/html": [
       "<div>\n",
       "<style scoped>\n",
       "    .dataframe tbody tr th:only-of-type {\n",
       "        vertical-align: middle;\n",
       "    }\n",
       "\n",
       "    .dataframe tbody tr th {\n",
       "        vertical-align: top;\n",
       "    }\n",
       "\n",
       "    .dataframe thead th {\n",
       "        text-align: right;\n",
       "    }\n",
       "</style>\n",
       "<table border=\"1\" class=\"dataframe\">\n",
       "  <thead>\n",
       "    <tr style=\"text-align: right;\">\n",
       "      <th></th>\n",
       "      <th>fa_id</th>\n",
       "    </tr>\n",
       "    <tr>\n",
       "      <th>sbfe_score_buckets</th>\n",
       "      <th></th>\n",
       "    </tr>\n",
       "  </thead>\n",
       "  <tbody>\n",
       "    <tr>\n",
       "      <th>b. 800-840</th>\n",
       "      <td>5</td>\n",
       "    </tr>\n",
       "    <tr>\n",
       "      <th>c. 840-860</th>\n",
       "      <td>9</td>\n",
       "    </tr>\n",
       "    <tr>\n",
       "      <th>d. 860-880</th>\n",
       "      <td>8</td>\n",
       "    </tr>\n",
       "  </tbody>\n",
       "</table>\n",
       "</div>"
      ],
      "text/plain": [
       "                    fa_id\n",
       "sbfe_score_buckets       \n",
       "b. 800-840              5\n",
       "c. 840-860              9\n",
       "d. 860-880              8"
      ]
     },
     "execution_count": 721,
     "metadata": {},
     "output_type": "execute_result"
    }
   ],
   "source": [
    "pass_bureau_except_sbfe[['sbfe_score_buckets', 'fa_id']].groupby('sbfe_score_buckets').count()"
   ]
  },
  {
   "cell_type": "code",
   "execution_count": null,
   "metadata": {},
   "outputs": [],
   "source": []
  }
 ],
 "metadata": {
  "kernelspec": {
   "display_name": "Python 3",
   "language": "python",
   "name": "python3"
  },
  "language_info": {
   "codemirror_mode": {
    "name": "ipython",
    "version": 3
   },
   "file_extension": ".py",
   "mimetype": "text/x-python",
   "name": "python",
   "nbconvert_exporter": "python",
   "pygments_lexer": "ipython3",
   "version": "3.8.5"
  }
 },
 "nbformat": 4,
 "nbformat_minor": 4
}
