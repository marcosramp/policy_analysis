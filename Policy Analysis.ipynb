{
 "cells": [
  {
   "cell_type": "code",
   "execution_count": 40,
   "metadata": {},
   "outputs": [],
   "source": [
    "import pandas as pd\n",
    "import numpy as np\n",
    "import matplotlib.pyplot as plt\n",
    "%matplotlib inline"
   ]
  },
  {
   "cell_type": "code",
   "execution_count": 41,
   "metadata": {},
   "outputs": [],
   "source": [
    "df = pd.read_csv('apps_policy.csv')"
   ]
  },
  {
   "cell_type": "code",
   "execution_count": 42,
   "metadata": {},
   "outputs": [
    {
     "data": {
      "text/plain": [
       "(22556, 31)"
      ]
     },
     "execution_count": 42,
     "metadata": {},
     "output_type": "execute_result"
    }
   ],
   "source": [
    "df.shape"
   ]
  },
  {
   "cell_type": "markdown",
   "metadata": {},
   "source": [
    "### Create buckets"
   ]
  },
  {
   "cell_type": "code",
   "execution_count": 43,
   "metadata": {},
   "outputs": [],
   "source": [
    "## Create GLA buckets\n",
    "def f(df):\n",
    "    if df['gla'] < 75000:\n",
    "        val = 'a. < 75k'\n",
    "    elif df['gla'] < 250000:\n",
    "        val = 'b. 75k - 250k'\n",
    "    elif df['gla'] < 500000:\n",
    "        val = 'c. 250k - 500k'\n",
    "    elif df['gla'] < 1000000:\n",
    "        val = 'd. 500k - 1M'\n",
    "    elif df['gla'] >= 1000000:\n",
    "        val = 'e. 1M+'\n",
    "    else: val = 'error'\n",
    "    return val\n",
    "\n",
    "df['gla_buckets'] = df.apply(f, axis = 1)\n",
    "\n",
    "## Create inflow buckets\n",
    "def i(df):\n",
    "    if df['avg_3_month_revenue'] == '':\n",
    "        val = 'none'\n",
    "    elif df['avg_3_month_revenue'] < 10000:\n",
    "        val = 'a. 0 - 10k'\n",
    "    elif df['avg_3_month_revenue'] < 25000:\n",
    "        val = 'b. 10k - 25k'\n",
    "    elif df['avg_3_month_revenue'] < 50000:\n",
    "        val = 'c. 25k - 50k'\n",
    "    elif df['avg_3_month_revenue'] < 100000:\n",
    "        val = 'd. 50k - 100k'\n",
    "    elif df['avg_3_month_revenue'] < 500000:\n",
    "        val = 'e. 100k - 500k'\n",
    "    elif df['avg_3_month_revenue'] > 500000:\n",
    "        val = 'f. 500k+'\n",
    "    else: val = 'error'\n",
    "    return val\n",
    "\n",
    "df['inflow_buckets'] = df.apply(i, axis = 1)"
   ]
  },
  {
   "cell_type": "markdown",
   "metadata": {},
   "source": [
    "## Filter down to only submitted apps in September + exclude non-standard policy + exclude fraud rejection reasons"
   ]
  },
  {
   "cell_type": "code",
   "execution_count": 44,
   "metadata": {},
   "outputs": [
    {
     "data": {
      "text/plain": [
       "(1327, 35)"
      ]
     },
     "execution_count": 44,
     "metadata": {},
     "output_type": "execute_result"
    }
   ],
   "source": [
    "##Additional fields\n",
    "df['Date'] = pd.to_datetime(df.fa_submitted_at).dt.strftime('%Y-%m-%d')\n",
    "df['approved_limit'] = df['gla'] *0.1\n",
    "\n",
    "## get only Sept submissions\n",
    "new_df = df.loc[(df['fa_status'] != 'Pending') & (df['fa_status'] != '') & (df['Date'] >= '2021-09-01') & (df['Date'] <= '2021-09-30') & ((df['business_policy_type'] == 'STANDARD_POLICY') | (df['business_policy_type'].isnull()) & (df['fa_rejection_reason'] != 'Suspected fraud'))]\n",
    "\n",
    "new_df.shape"
   ]
  },
  {
   "cell_type": "markdown",
   "metadata": {},
   "source": [
    "## SBFE score distribution"
   ]
  },
  {
   "cell_type": "code",
   "execution_count": 45,
   "metadata": {},
   "outputs": [
    {
     "data": {
      "text/plain": [
       "(array([  4.,  13.,  32.,  60., 143., 384., 129., 115.,  71.,  17.]),\n",
       " array([760. , 781.9, 803.8, 825.7, 847.6, 869.5, 891.4, 913.3, 935.2,\n",
       "        957.1, 979. ]),\n",
       " <BarContainer object of 10 artists>)"
      ]
     },
     "execution_count": 45,
     "metadata": {},
     "output_type": "execute_result"
    },
    {
     "data": {
      "image/png": "[encoded data removed]",
      "text/plain": [
       "<Figure size 432x288 with 1 Axes>"
      ]
     },
     "metadata": {
      "needs_background": "light"
     },
     "output_type": "display_data"
    }
   ],
   "source": [
    "plot_sbfe = new_df.loc[(new_df['sbfe_score'] != '') & (new_df['sbfe_score'] != 0) & (new_df['is_confirmed'] == True)]\n",
    "plt.hist(plot_sbfe['sbfe_score'], bins = 10)"
   ]
  },
  {
   "cell_type": "code",
   "execution_count": 46,
   "metadata": {},
   "outputs": [
    {
     "data": {
      "text/plain": [
       "count     64.000000\n",
       "mean     909.687500\n",
       "std       27.940342\n",
       "min      859.000000\n",
       "25%      882.500000\n",
       "50%      908.500000\n",
       "75%      932.500000\n",
       "max      967.000000\n",
       "Name: sbfe_score, dtype: float64"
      ]
     },
     "execution_count": 46,
     "metadata": {},
     "output_type": "execute_result"
    }
   ],
   "source": [
    "##What is the mean SBFE score from apps we approve in 75k to 250k GLA bucket\n",
    "plot_sbfe.loc[(plot_sbfe['fa_status'] == 'Admin Approved') & (new_df['gla'] > 75000) & (new_df['gla'] < 250000)]['sbfe_score'].describe()"
   ]
  },
  {
   "cell_type": "markdown",
   "metadata": {},
   "source": [
    "### Filter down to only those that were Rejected and GLA > 75K, < 250K"
   ]
  },
  {
   "cell_type": "code",
   "execution_count": 47,
   "metadata": {},
   "outputs": [
    {
     "data": {
      "text/plain": [
       "(array([ 1.,  3.,  6.,  8., 24., 22.,  9., 10.,  4.,  1.]),\n",
       " array([779. , 797.4, 815.8, 834.2, 852.6, 871. , 889.4, 907.8, 926.2,\n",
       "        944.6, 963. ]),\n",
       " <BarContainer object of 10 artists>)"
      ]
     },
     "execution_count": 47,
     "metadata": {},
     "output_type": "execute_result"
    },
    {
     "data": {
      "image/png": "[encoded data removed]",
      "text/plain": [
       "<Figure size 432x288 with 1 Axes>"
      ]
     },
     "metadata": {
      "needs_background": "light"
     },
     "output_type": "display_data"
    }
   ],
   "source": [
    "plot_sbfe_rejected = plot_sbfe.loc[((new_df['fa_status'] == 'Rejected') | (new_df['fa_status'] == 'Withdrawn')) & (new_df['gla'] > 75000) & (new_df['gla'] < 250000)]\n",
    "plt.hist(plot_sbfe_rejected['sbfe_score'], bins = 10)"
   ]
  },
  {
   "cell_type": "code",
   "execution_count": 48,
   "metadata": {},
   "outputs": [
    {
     "data": {
      "text/plain": [
       "count     88.000000\n",
       "mean     874.375000\n",
       "std       33.021871\n",
       "min      779.000000\n",
       "25%      855.750000\n",
       "50%      876.000000\n",
       "75%      894.000000\n",
       "max      963.000000\n",
       "Name: sbfe_score, dtype: float64"
      ]
     },
     "execution_count": 48,
     "metadata": {},
     "output_type": "execute_result"
    }
   ],
   "source": [
    "##What is the mean SBFE score from apps we reject\n",
    "plot_sbfe_rejected['sbfe_score'].describe()"
   ]
  },
  {
   "cell_type": "code",
   "execution_count": 49,
   "metadata": {},
   "outputs": [
    {
     "data": {
      "text/plain": [
       "(89, 35)"
      ]
     },
     "execution_count": 49,
     "metadata": {},
     "output_type": "execute_result"
    }
   ],
   "source": [
    "plot_sbfe_rejected.shape"
   ]
  },
  {
   "cell_type": "markdown",
   "metadata": {},
   "source": [
    "## Comp Spend distribution"
   ]
  },
  {
   "cell_type": "markdown",
   "metadata": {},
   "source": [
    "### < 100k competitor spend"
   ]
  },
  {
   "cell_type": "code",
   "execution_count": 50,
   "metadata": {},
   "outputs": [
    {
     "data": {
      "text/plain": [
       "(array([372.,  63.,  27.,  21.,   7.,  11.,   6.,   4.,   4.,   5.]),\n",
       " array([3.33333333e-03, 9.06603167e+03, 1.81320600e+04, 2.71980883e+04,\n",
       "        3.62641167e+04, 4.53301450e+04, 5.43961733e+04, 6.34622017e+04,\n",
       "        7.25282300e+04, 8.15942583e+04, 9.06602867e+04]),\n",
       " <BarContainer object of 10 artists>)"
      ]
     },
     "execution_count": 50,
     "metadata": {},
     "output_type": "execute_result"
    },
    {
     "data": {
      "image/png": "[encoded data removed]",
      "text/plain": [
       "<Figure size 432x288 with 1 Axes>"
      ]
     },
     "metadata": {
      "needs_background": "light"
     },
     "output_type": "display_data"
    }
   ],
   "source": [
    "plot_competitor_spend = new_df.loc[(new_df['competitor_avg_3_month_spend'] != '') & (new_df['competitor_avg_3_month_spend'] > 0) & (new_df['competitor_avg_3_month_spend'] < 100000)]\n",
    "plt.hist(plot_competitor_spend['competitor_avg_3_month_spend'], bins = 10)"
   ]
  },
  {
   "cell_type": "code",
   "execution_count": 51,
   "metadata": {},
   "outputs": [
    {
     "data": {
      "text/plain": [
       "(520, 35)"
      ]
     },
     "execution_count": 51,
     "metadata": {},
     "output_type": "execute_result"
    }
   ],
   "source": [
    "plot_competitor_spend.shape"
   ]
  },
  {
   "cell_type": "markdown",
   "metadata": {},
   "source": [
    "### < 10k competitor spend"
   ]
  },
  {
   "cell_type": "code",
   "execution_count": 52,
   "metadata": {},
   "outputs": [
    {
     "data": {
      "text/plain": [
       "(array([160.,  55.,  39.,  32.,  18.,  24.,  17.,  11.,  13.,  13.]),\n",
       " array([3.33333333e-03, 9.94336500e+02, 1.98866967e+03, 2.98300283e+03,\n",
       "        3.97733600e+03, 4.97166917e+03, 5.96600233e+03, 6.96033550e+03,\n",
       "        7.95466867e+03, 8.94900183e+03, 9.94333500e+03]),\n",
       " <BarContainer object of 10 artists>)"
      ]
     },
     "execution_count": 52,
     "metadata": {},
     "output_type": "execute_result"
    },
    {
     "data": {
      "image/png": "[encoded data removed]",
      "text/plain": [
       "<Figure size 432x288 with 1 Axes>"
      ]
     },
     "metadata": {
      "needs_background": "light"
     },
     "output_type": "display_data"
    }
   ],
   "source": [
    "plot_competitor_spend = new_df.loc[(new_df['competitor_avg_3_month_spend'] != '') & (new_df['competitor_avg_3_month_spend'] > 0) & (new_df['competitor_avg_3_month_spend'] < 10000)]\n",
    "plt.hist(plot_competitor_spend['competitor_avg_3_month_spend'], bins = 10)"
   ]
  },
  {
   "cell_type": "code",
   "execution_count": 53,
   "metadata": {},
   "outputs": [
    {
     "data": {
      "text/plain": [
       "(382, 35)"
      ]
     },
     "execution_count": 53,
     "metadata": {},
     "output_type": "execute_result"
    }
   ],
   "source": [
    "plot_competitor_spend.shape"
   ]
  },
  {
   "cell_type": "markdown",
   "metadata": {},
   "source": [
    "## 1) Approve Applications with Lower SBFE scores + Use Competitor Spend"
   ]
  },
  {
   "cell_type": "code",
   "execution_count": 135,
   "metadata": {},
   "outputs": [
    {
     "data": {
      "text/html": [
       "<div>\n",
       "<style scoped>\n",
       "    .dataframe tbody tr th:only-of-type {\n",
       "        vertical-align: middle;\n",
       "    }\n",
       "\n",
       "    .dataframe tbody tr th {\n",
       "        vertical-align: top;\n",
       "    }\n",
       "\n",
       "    .dataframe thead tr th {\n",
       "        text-align: left;\n",
       "    }\n",
       "\n",
       "    .dataframe thead tr:last-of-type th {\n",
       "        text-align: right;\n",
       "    }\n",
       "</style>\n",
       "<table border=\"1\" class=\"dataframe\">\n",
       "  <thead>\n",
       "    <tr>\n",
       "      <th></th>\n",
       "      <th colspan=\"8\" halign=\"left\">sbfe_score</th>\n",
       "    </tr>\n",
       "    <tr>\n",
       "      <th></th>\n",
       "      <th>count</th>\n",
       "      <th>mean</th>\n",
       "      <th>std</th>\n",
       "      <th>min</th>\n",
       "      <th>25%</th>\n",
       "      <th>50%</th>\n",
       "      <th>75%</th>\n",
       "      <th>max</th>\n",
       "    </tr>\n",
       "    <tr>\n",
       "      <th>gla_buckets</th>\n",
       "      <th></th>\n",
       "      <th></th>\n",
       "      <th></th>\n",
       "      <th></th>\n",
       "      <th></th>\n",
       "      <th></th>\n",
       "      <th></th>\n",
       "      <th></th>\n",
       "    </tr>\n",
       "  </thead>\n",
       "  <tbody>\n",
       "    <tr>\n",
       "      <th>a. &lt; 75k</th>\n",
       "      <td>8.0</td>\n",
       "      <td>890.875000</td>\n",
       "      <td>17.430986</td>\n",
       "      <td>875.0</td>\n",
       "      <td>876.75</td>\n",
       "      <td>889.0</td>\n",
       "      <td>894.00</td>\n",
       "      <td>927.0</td>\n",
       "    </tr>\n",
       "    <tr>\n",
       "      <th>b. 75k - 250k</th>\n",
       "      <td>65.0</td>\n",
       "      <td>909.353846</td>\n",
       "      <td>27.851409</td>\n",
       "      <td>859.0</td>\n",
       "      <td>883.00</td>\n",
       "      <td>908.0</td>\n",
       "      <td>931.00</td>\n",
       "      <td>967.0</td>\n",
       "    </tr>\n",
       "    <tr>\n",
       "      <th>c. 250k - 500k</th>\n",
       "      <td>45.0</td>\n",
       "      <td>902.266667</td>\n",
       "      <td>34.639966</td>\n",
       "      <td>820.0</td>\n",
       "      <td>875.00</td>\n",
       "      <td>904.0</td>\n",
       "      <td>928.00</td>\n",
       "      <td>962.0</td>\n",
       "    </tr>\n",
       "    <tr>\n",
       "      <th>d. 500k - 1M</th>\n",
       "      <td>55.0</td>\n",
       "      <td>898.090909</td>\n",
       "      <td>35.464261</td>\n",
       "      <td>803.0</td>\n",
       "      <td>875.00</td>\n",
       "      <td>902.0</td>\n",
       "      <td>927.00</td>\n",
       "      <td>960.0</td>\n",
       "    </tr>\n",
       "    <tr>\n",
       "      <th>e. 1M+</th>\n",
       "      <td>134.0</td>\n",
       "      <td>889.567164</td>\n",
       "      <td>33.384173</td>\n",
       "      <td>813.0</td>\n",
       "      <td>870.25</td>\n",
       "      <td>882.5</td>\n",
       "      <td>909.75</td>\n",
       "      <td>979.0</td>\n",
       "    </tr>\n",
       "  </tbody>\n",
       "</table>\n",
       "</div>"
      ],
      "text/plain": [
       "               sbfe_score                                               \\\n",
       "                    count        mean        std    min     25%    50%   \n",
       "gla_buckets                                                              \n",
       "a. < 75k              8.0  890.875000  17.430986  875.0  876.75  889.0   \n",
       "b. 75k - 250k        65.0  909.353846  27.851409  859.0  883.00  908.0   \n",
       "c. 250k - 500k       45.0  902.266667  34.639966  820.0  875.00  904.0   \n",
       "d. 500k - 1M         55.0  898.090909  35.464261  803.0  875.00  902.0   \n",
       "e. 1M+              134.0  889.567164  33.384173  813.0  870.25  882.5   \n",
       "\n",
       "                               \n",
       "                   75%    max  \n",
       "gla_buckets                    \n",
       "a. < 75k        894.00  927.0  \n",
       "b. 75k - 250k   931.00  967.0  \n",
       "c. 250k - 500k  928.00  962.0  \n",
       "d. 500k - 1M    927.00  960.0  \n",
       "e. 1M+          909.75  979.0  "
      ]
     },
     "execution_count": 135,
     "metadata": {},
     "output_type": "execute_result"
    }
   ],
   "source": [
    "submitted = new_df.loc[(df['fa_status'] != 'Pending') & (df['fa_status'] != '') & (df['fa_rejection_reason'] != 'Suspected fraud')]\n",
    "\n",
    "## approved applications\n",
    "approved_sbfe = submitted.loc[(submitted['fa_status'] == 'Admin Approved') & (submitted['sbfe_score'].notnull())]\n",
    "approved_sbfe[['gla_buckets', 'sbfe_score']].groupby('gla_buckets').describe()"
   ]
  },
  {
   "cell_type": "code",
   "execution_count": 136,
   "metadata": {},
   "outputs": [
    {
     "data": {
      "text/plain": [
       "count    307.000000\n",
       "mean     897.179153\n",
       "std       33.315738\n",
       "min      803.000000\n",
       "25%      875.000000\n",
       "50%      894.000000\n",
       "75%      924.000000\n",
       "max      979.000000\n",
       "Name: sbfe_score, dtype: float64"
      ]
     },
     "execution_count": 136,
     "metadata": {},
     "output_type": "execute_result"
    }
   ],
   "source": [
    "approved_sbfe['sbfe_score'].describe()"
   ]
  },
  {
   "cell_type": "code",
   "execution_count": 137,
   "metadata": {},
   "outputs": [
    {
     "data": {
      "text/plain": [
       "(array([ 8.,  4., 11., 39., 87., 44., 44., 38., 27.,  5.]),\n",
       " array([803. , 820.6, 838.2, 855.8, 873.4, 891. , 908.6, 926.2, 943.8,\n",
       "        961.4, 979. ]),\n",
       " <BarContainer object of 10 artists>)"
      ]
     },
     "execution_count": 137,
     "metadata": {},
     "output_type": "execute_result"
    },
    {
     "data": {
      "image/png": "[encoded data removed]",
      "text/plain": [
       "<Figure size 432x288 with 1 Axes>"
      ]
     },
     "metadata": {
      "needs_background": "light"
     },
     "output_type": "display_data"
    }
   ],
   "source": [
    "plt.hist(approved_sbfe['sbfe_score'], bins = 10)"
   ]
  },
  {
   "cell_type": "markdown",
   "metadata": {},
   "source": [
    "- Looks like overall the SBFE score is skewed towards the higher end, which makes sense considering we only approve 880+ in the GLA > 75K, < 250K world"
   ]
  },
  {
   "cell_type": "markdown",
   "metadata": {},
   "source": [
    "### If we choose to reduce the threshold, what would be the incremental approval?"
   ]
  },
  {
   "cell_type": "code",
   "execution_count": 138,
   "metadata": {},
   "outputs": [
    {
     "data": {
      "text/plain": [
       "(621, 35)"
      ]
     },
     "execution_count": 138,
     "metadata": {},
     "output_type": "execute_result"
    }
   ],
   "source": [
    "rejected_sbfe = submitted.loc[((submitted['fa_status'] == 'Rejected') | (submitted['fa_status'] == 'Withdrawn')) & (submitted['sbfe_score'].notnull())]\n",
    "rejected_sbfe.shape"
   ]
  },
  {
   "cell_type": "code",
   "execution_count": 139,
   "metadata": {},
   "outputs": [
    {
     "data": {
      "text/html": [
       "<div>\n",
       "<style scoped>\n",
       "    .dataframe tbody tr th:only-of-type {\n",
       "        vertical-align: middle;\n",
       "    }\n",
       "\n",
       "    .dataframe tbody tr th {\n",
       "        vertical-align: top;\n",
       "    }\n",
       "\n",
       "    .dataframe thead tr th {\n",
       "        text-align: left;\n",
       "    }\n",
       "\n",
       "    .dataframe thead tr:last-of-type th {\n",
       "        text-align: right;\n",
       "    }\n",
       "</style>\n",
       "<table border=\"1\" class=\"dataframe\">\n",
       "  <thead>\n",
       "    <tr>\n",
       "      <th></th>\n",
       "      <th colspan=\"8\" halign=\"left\">sbfe_score</th>\n",
       "    </tr>\n",
       "    <tr>\n",
       "      <th></th>\n",
       "      <th>count</th>\n",
       "      <th>mean</th>\n",
       "      <th>std</th>\n",
       "      <th>min</th>\n",
       "      <th>25%</th>\n",
       "      <th>50%</th>\n",
       "      <th>75%</th>\n",
       "      <th>max</th>\n",
       "    </tr>\n",
       "    <tr>\n",
       "      <th>gla_buckets</th>\n",
       "      <th></th>\n",
       "      <th></th>\n",
       "      <th></th>\n",
       "      <th></th>\n",
       "      <th></th>\n",
       "      <th></th>\n",
       "      <th></th>\n",
       "      <th></th>\n",
       "    </tr>\n",
       "  </thead>\n",
       "  <tbody>\n",
       "    <tr>\n",
       "      <th>a. &lt; 75k</th>\n",
       "      <td>511.0</td>\n",
       "      <td>874.962818</td>\n",
       "      <td>64.263494</td>\n",
       "      <td>0.0</td>\n",
       "      <td>867.00</td>\n",
       "      <td>877.0</td>\n",
       "      <td>889.00</td>\n",
       "      <td>973.0</td>\n",
       "    </tr>\n",
       "    <tr>\n",
       "      <th>b. 75k - 250k</th>\n",
       "      <td>90.0</td>\n",
       "      <td>874.622222</td>\n",
       "      <td>32.728223</td>\n",
       "      <td>779.0</td>\n",
       "      <td>856.75</td>\n",
       "      <td>876.0</td>\n",
       "      <td>894.00</td>\n",
       "      <td>963.0</td>\n",
       "    </tr>\n",
       "    <tr>\n",
       "      <th>c. 250k - 500k</th>\n",
       "      <td>2.0</td>\n",
       "      <td>850.500000</td>\n",
       "      <td>36.062446</td>\n",
       "      <td>825.0</td>\n",
       "      <td>837.75</td>\n",
       "      <td>850.5</td>\n",
       "      <td>863.25</td>\n",
       "      <td>876.0</td>\n",
       "    </tr>\n",
       "    <tr>\n",
       "      <th>e. 1M+</th>\n",
       "      <td>4.0</td>\n",
       "      <td>864.750000</td>\n",
       "      <td>18.909874</td>\n",
       "      <td>839.0</td>\n",
       "      <td>858.50</td>\n",
       "      <td>868.0</td>\n",
       "      <td>874.25</td>\n",
       "      <td>884.0</td>\n",
       "    </tr>\n",
       "    <tr>\n",
       "      <th>error</th>\n",
       "      <td>14.0</td>\n",
       "      <td>876.357143</td>\n",
       "      <td>27.051538</td>\n",
       "      <td>815.0</td>\n",
       "      <td>872.00</td>\n",
       "      <td>877.5</td>\n",
       "      <td>886.25</td>\n",
       "      <td>920.0</td>\n",
       "    </tr>\n",
       "  </tbody>\n",
       "</table>\n",
       "</div>"
      ],
      "text/plain": [
       "               sbfe_score                                               \\\n",
       "                    count        mean        std    min     25%    50%   \n",
       "gla_buckets                                                              \n",
       "a. < 75k            511.0  874.962818  64.263494    0.0  867.00  877.0   \n",
       "b. 75k - 250k        90.0  874.622222  32.728223  779.0  856.75  876.0   \n",
       "c. 250k - 500k        2.0  850.500000  36.062446  825.0  837.75  850.5   \n",
       "e. 1M+                4.0  864.750000  18.909874  839.0  858.50  868.0   \n",
       "error                14.0  876.357143  27.051538  815.0  872.00  877.5   \n",
       "\n",
       "                               \n",
       "                   75%    max  \n",
       "gla_buckets                    \n",
       "a. < 75k        889.00  973.0  \n",
       "b. 75k - 250k   894.00  963.0  \n",
       "c. 250k - 500k  863.25  876.0  \n",
       "e. 1M+          874.25  884.0  \n",
       "error           886.25  920.0  "
      ]
     },
     "execution_count": 139,
     "metadata": {},
     "output_type": "execute_result"
    }
   ],
   "source": [
    "rejected_sbfe[['gla_buckets', 'sbfe_score']].groupby('gla_buckets').describe()"
   ]
  },
  {
   "cell_type": "markdown",
   "metadata": {},
   "source": [
    "### Total Incremental Approvals\n"
   ]
  },
  {
   "cell_type": "code",
   "execution_count": 149,
   "metadata": {},
   "outputs": [
    {
     "data": {
      "text/plain": [
       "(14, 35)"
      ]
     },
     "execution_count": 149,
     "metadata": {},
     "output_type": "execute_result"
    }
   ],
   "source": [
    "## Total Incremental Approvals\n",
    "incremental_approvals = rejected_sbfe.loc[((rejected_sbfe['competitor_avg_3_month_spend'] >= 10000) | (rejected_sbfe['bureau_max_credit_limit'] >= 10000)) \n",
    "                                          & (rejected_sbfe['gla'] >= 75000) & (rejected_sbfe['sbfe_score'] >= 860) & ((rejected_sbfe['dpd_30_balance']< 1000) | (rejected_sbfe['dpd_30_balance'].isnull()))]\n",
    "incremental_approvals[['fa_id','fa_status', 'sbfe_score', 'bureau_max_credit_limit', 'competitor_avg_3_month_spend', 'gla', 'dpd_30_balance', 'is_confirmed', 'estimated_spend']]\n",
    "incremental_approvals.shape"
   ]
  },
  {
   "cell_type": "markdown",
   "metadata": {},
   "source": [
    "#### Only 860-880 approvals"
   ]
  },
  {
   "cell_type": "code",
   "execution_count": 169,
   "metadata": {},
   "outputs": [
    {
     "data": {
      "text/plain": [
       "(5, 10)"
      ]
     },
     "execution_count": 169,
     "metadata": {},
     "output_type": "execute_result"
    }
   ],
   "source": [
    "## Lets break this out\n",
    "## Only 860-880 approvals\n",
    "inc_860_880 = incremental_approvals[['fa_id','fa_status', 'sbfe_score', 'bureau_max_credit_limit', 'competitor_avg_3_month_spend', 'gla', 'dpd_30_balance', 'is_confirmed', 'estimated_spend', 'fa_rejection_reason']].loc[incremental_approvals['sbfe_score']< 880]\n",
    "inc_860_880.shape"
   ]
  },
  {
   "cell_type": "code",
   "execution_count": 166,
   "metadata": {},
   "outputs": [],
   "source": [
    "##inc_860_880"
   ]
  },
  {
   "cell_type": "markdown",
   "metadata": {},
   "source": [
    "#### 880+ incrementals"
   ]
  },
  {
   "cell_type": "code",
   "execution_count": 171,
   "metadata": {},
   "outputs": [
    {
     "data": {
      "text/plain": [
       "(9, 10)"
      ]
     },
     "execution_count": 171,
     "metadata": {},
     "output_type": "execute_result"
    }
   ],
   "source": [
    "## 880+ incrementals\n",
    "cond = ((incremental_approvals['fa_rejection_reason'] == 'GLA is below the threshold for the segment'))\n",
    "inc_880_plus = incremental_approvals[['fa_id','fa_status', 'sbfe_score', 'bureau_max_credit_limit', 'competitor_avg_3_month_spend', 'gla', 'dpd_30_balance', 'is_confirmed', 'estimated_spend', 'fa_rejection_reason']].loc[(incremental_approvals['sbfe_score']>= 880)]\n",
    "inc_880_plus.shape"
   ]
  },
  {
   "cell_type": "code",
   "execution_count": 160,
   "metadata": {},
   "outputs": [],
   "source": [
    "## Filter down to only GLA is below threshold\n",
    "# cond = ((incremental_approvals['fa_rejection_reason'] == 'GLA is below the threshold for the segment'))\n",
    "# inc_880_plus.loc[cond].shape\n",
    "# inc_880_plus.loc[cond]"
   ]
  },
  {
   "cell_type": "markdown",
   "metadata": {},
   "source": [
    "#### Competitor spend incrementals"
   ]
  },
  {
   "cell_type": "code",
   "execution_count": 161,
   "metadata": {},
   "outputs": [
    {
     "data": {
      "text/plain": [
       "(8, 10)"
      ]
     },
     "execution_count": 161,
     "metadata": {},
     "output_type": "execute_result"
    }
   ],
   "source": [
    "## Competitor spend incrementals\n",
    "comp_spend = incremental_approvals[['fa_id','fa_status', 'sbfe_score', 'bureau_max_credit_limit', 'competitor_avg_3_month_spend', 'gla', 'dpd_30_balance', 'is_confirmed', 'estimated_spend', 'fa_rejection_reason']].loc[(incremental_approvals['sbfe_score']>= 860)\n",
    "& (((incremental_approvals['bureau_max_credit_limit'].isnull()) | (incremental_approvals['bureau_max_credit_limit'] < 10000)) & (incremental_approvals['competitor_avg_3_month_spend'] >= 10000))]\n",
    "comp_spend.shape"
   ]
  },
  {
   "cell_type": "code",
   "execution_count": 158,
   "metadata": {},
   "outputs": [
    {
     "data": {
      "text/html": [
       "<div>\n",
       "<style scoped>\n",
       "    .dataframe tbody tr th:only-of-type {\n",
       "        vertical-align: middle;\n",
       "    }\n",
       "\n",
       "    .dataframe tbody tr th {\n",
       "        vertical-align: top;\n",
       "    }\n",
       "\n",
       "    .dataframe thead th {\n",
       "        text-align: right;\n",
       "    }\n",
       "</style>\n",
       "<table border=\"1\" class=\"dataframe\">\n",
       "  <thead>\n",
       "    <tr style=\"text-align: right;\">\n",
       "      <th></th>\n",
       "      <th>fa_id</th>\n",
       "      <th>fa_status</th>\n",
       "      <th>sbfe_score</th>\n",
       "      <th>bureau_max_credit_limit</th>\n",
       "      <th>competitor_avg_3_month_spend</th>\n",
       "      <th>gla</th>\n",
       "      <th>dpd_30_balance</th>\n",
       "      <th>is_confirmed</th>\n",
       "      <th>estimated_spend</th>\n",
       "      <th>fa_rejection_reason</th>\n",
       "    </tr>\n",
       "  </thead>\n",
       "  <tbody>\n",
       "    <tr>\n",
       "      <th>15725</th>\n",
       "      <td>23084</td>\n",
       "      <td>Rejected</td>\n",
       "      <td>884.0</td>\n",
       "      <td>NaN</td>\n",
       "      <td>22960.566667</td>\n",
       "      <td>75434.63</td>\n",
       "      <td>NaN</td>\n",
       "      <td>True</td>\n",
       "      <td>150000.0</td>\n",
       "      <td>GLA is below the threshold for the segment</td>\n",
       "    </tr>\n",
       "    <tr>\n",
       "      <th>15753</th>\n",
       "      <td>21267</td>\n",
       "      <td>Rejected</td>\n",
       "      <td>865.0</td>\n",
       "      <td>NaN</td>\n",
       "      <td>26819.803333</td>\n",
       "      <td>1850920.18</td>\n",
       "      <td>NaN</td>\n",
       "      <td>True</td>\n",
       "      <td>30000.0</td>\n",
       "      <td>Is in a restricted business category</td>\n",
       "    </tr>\n",
       "    <tr>\n",
       "      <th>15765</th>\n",
       "      <td>23882</td>\n",
       "      <td>Rejected</td>\n",
       "      <td>867.0</td>\n",
       "      <td>NaN</td>\n",
       "      <td>47998.680000</td>\n",
       "      <td>124483.51</td>\n",
       "      <td>NaN</td>\n",
       "      <td>True</td>\n",
       "      <td>150000.0</td>\n",
       "      <td>GLA is below the threshold for the segment</td>\n",
       "    </tr>\n",
       "    <tr>\n",
       "      <th>15977</th>\n",
       "      <td>21302</td>\n",
       "      <td>Rejected</td>\n",
       "      <td>884.0</td>\n",
       "      <td>NaN</td>\n",
       "      <td>227611.666667</td>\n",
       "      <td>1083596.56</td>\n",
       "      <td>NaN</td>\n",
       "      <td>True</td>\n",
       "      <td>400000.0</td>\n",
       "      <td>Incomplete application information</td>\n",
       "    </tr>\n",
       "    <tr>\n",
       "      <th>16965</th>\n",
       "      <td>22162</td>\n",
       "      <td>Rejected</td>\n",
       "      <td>919.0</td>\n",
       "      <td>0.0</td>\n",
       "      <td>11111.553333</td>\n",
       "      <td>78622.19</td>\n",
       "      <td>0.0</td>\n",
       "      <td>True</td>\n",
       "      <td>30000.0</td>\n",
       "      <td>GLA is below the threshold for the segment</td>\n",
       "    </tr>\n",
       "    <tr>\n",
       "      <th>19735</th>\n",
       "      <td>21522</td>\n",
       "      <td>Rejected</td>\n",
       "      <td>928.0</td>\n",
       "      <td>6000.0</td>\n",
       "      <td>121363.093333</td>\n",
       "      <td>159522.69</td>\n",
       "      <td>0.0</td>\n",
       "      <td>True</td>\n",
       "      <td>150000.0</td>\n",
       "      <td>High debt-to-GLA</td>\n",
       "    </tr>\n",
       "    <tr>\n",
       "      <th>20652</th>\n",
       "      <td>22918</td>\n",
       "      <td>Rejected</td>\n",
       "      <td>932.0</td>\n",
       "      <td>1000.0</td>\n",
       "      <td>109109.813333</td>\n",
       "      <td>133691.82</td>\n",
       "      <td>0.0</td>\n",
       "      <td>True</td>\n",
       "      <td>150000.0</td>\n",
       "      <td>GLA is below the threshold for the segment</td>\n",
       "    </tr>\n",
       "    <tr>\n",
       "      <th>22549</th>\n",
       "      <td>22105</td>\n",
       "      <td>Rejected</td>\n",
       "      <td>874.0</td>\n",
       "      <td>NaN</td>\n",
       "      <td>14739.036667</td>\n",
       "      <td>83515.99</td>\n",
       "      <td>0.0</td>\n",
       "      <td>True</td>\n",
       "      <td>150000.0</td>\n",
       "      <td>GLA is below the threshold for the segment</td>\n",
       "    </tr>\n",
       "  </tbody>\n",
       "</table>\n",
       "</div>"
      ],
      "text/plain": [
       "       fa_id fa_status  sbfe_score  bureau_max_credit_limit  \\\n",
       "15725  23084  Rejected       884.0                      NaN   \n",
       "15753  21267  Rejected       865.0                      NaN   \n",
       "15765  23882  Rejected       867.0                      NaN   \n",
       "15977  21302  Rejected       884.0                      NaN   \n",
       "16965  22162  Rejected       919.0                      0.0   \n",
       "19735  21522  Rejected       928.0                   6000.0   \n",
       "20652  22918  Rejected       932.0                   1000.0   \n",
       "22549  22105  Rejected       874.0                      NaN   \n",
       "\n",
       "       competitor_avg_3_month_spend         gla  dpd_30_balance is_confirmed  \\\n",
       "15725                  22960.566667    75434.63             NaN         True   \n",
       "15753                  26819.803333  1850920.18             NaN         True   \n",
       "15765                  47998.680000   124483.51             NaN         True   \n",
       "15977                 227611.666667  1083596.56             NaN         True   \n",
       "16965                  11111.553333    78622.19             0.0         True   \n",
       "19735                 121363.093333   159522.69             0.0         True   \n",
       "20652                 109109.813333   133691.82             0.0         True   \n",
       "22549                  14739.036667    83515.99             0.0         True   \n",
       "\n",
       "       estimated_spend                         fa_rejection_reason  \n",
       "15725         150000.0  GLA is below the threshold for the segment  \n",
       "15753          30000.0        Is in a restricted business category  \n",
       "15765         150000.0  GLA is below the threshold for the segment  \n",
       "15977         400000.0          Incomplete application information  \n",
       "16965          30000.0  GLA is below the threshold for the segment  \n",
       "19735         150000.0                            High debt-to-GLA  \n",
       "20652         150000.0  GLA is below the threshold for the segment  \n",
       "22549         150000.0  GLA is below the threshold for the segment  "
      ]
     },
     "execution_count": 158,
     "metadata": {},
     "output_type": "execute_result"
    }
   ],
   "source": [
    "comp_spend"
   ]
  },
  {
   "cell_type": "markdown",
   "metadata": {},
   "source": [
    "### How do we feel about these numbers?\n",
    "\n",
    "- This means that if we reduce the threshold to 860-880 and implement the competitor spend into policy, we will get an additional 14 businesses\n",
    "- If we break it down, we are getting: 1) 5 due to competitor spend only, 2) 3 due to both competitor spend and the 860-880 reduction, and 4) 2 due to the 860-880 reduction only. Note the remaining 4 were exceptions where we chose not to approve them either due to WD, GLA, NSFs or overdrafts\n",
    "- So this is a total of 14/1,431, that is close to 1%\n",
    "- Or 14/470 , that is close to 3% incremental approval rate. Pretty good - for context, the entire bureau initiative was anchored on 9% incremental approval"
   ]
  },
  {
   "cell_type": "markdown",
   "metadata": {},
   "source": [
    "#### So how do we decide if this is a good idea?\n",
    "\n",
    "- Model out expected spend / gain vs expected losses and determine profitability"
   ]
  },
  {
   "cell_type": "markdown",
   "metadata": {},
   "source": [
    "## 2) Scorecard Approvals in Lower GLA Buckets"
   ]
  },
  {
   "cell_type": "code",
   "execution_count": 175,
   "metadata": {},
   "outputs": [
    {
     "data": {
      "text/plain": [
       "fa_status       bureau_approved\n",
       "Rejected        0                  122\n",
       "Admin Approved  0                   42\n",
       "                1                   37\n",
       "Withdrawn       0                    3\n",
       "Rejected        1                    3\n",
       "Withdrawn       1                    1\n",
       "dtype: int64"
      ]
     },
     "execution_count": 175,
     "metadata": {},
     "output_type": "execute_result"
    }
   ],
   "source": [
    "scorecard_app = new_df.loc[(new_df['gla'] > 75000) & (new_df['gla'] < 250000) & (new_df['fa_status'].isin(['Admin Approved', 'Rejected', 'Withdrawn']))]\n",
    "scorecard_app[['fa_status', 'bureau_approved']].value_counts()"
   ]
  },
  {
   "cell_type": "markdown",
   "metadata": {},
   "source": [
    "\n",
    "- Our world is the 131 rejected + WD + the 42 approved to an extent (althought those are already approved today probably on exception, we would bring them \"into policy\")"
   ]
  },
  {
   "cell_type": "code",
   "execution_count": 56,
   "metadata": {},
   "outputs": [
    {
     "data": {
      "text/plain": [
       "scorecard_approved  manual_connection_score\n",
       "True                0.0                        83\n",
       "                    3.0                        53\n",
       "False               0.0                        29\n",
       "                    3.0                         6\n",
       "dtype: int64"
      ]
     },
     "execution_count": 56,
     "metadata": {},
     "output_type": "execute_result"
    }
   ],
   "source": [
    "## Incremental Approvals if we just begin using scorecard to approve these\n",
    "scorecard_app_world = scorecard_app.loc[((scorecard_app['fa_status'].isin(['Rejected', 'Withdrawn'])) | ((scorecard_app['fa_status'] == 'Admin Approved') & (scorecard_app['bureau_approved'] == 0)))]\n",
    "scorecard_app_world[['scorecard_approved', 'manual_connection_score']].value_counts()"
   ]
  },
  {
   "cell_type": "markdown",
   "metadata": {},
   "source": [
    "- So lets be clear here -> the manual_connection_score = 3 indicates a manual bank connection, meaning the the scorecard_approved tag being = True is not necessarily accurate. \n",
    "- This is depicting a \"straight decline\" where we likely did not manually review the bank statements because there was no bureau record\n",
    "- Hence, the 53 value we need to tone it down a little, because inside that pocket, there would likely be some that pass policy and others that do not\n",
    "- If we apply a straight line approval rate of 30% (close to our current approval rate in this world), then 53*0.3 = 16 apps\n",
    "\n",
    "This leaves us with a total population in Sept of **100 apps that would have been incrementally approved** had we just used scorecard to approve in these buckets"
   ]
  },
  {
   "cell_type": "code",
   "execution_count": 57,
   "metadata": {},
   "outputs": [
    {
     "data": {
      "text/html": [
       "<div>\n",
       "<style scoped>\n",
       "    .dataframe tbody tr th:only-of-type {\n",
       "        vertical-align: middle;\n",
       "    }\n",
       "\n",
       "    .dataframe tbody tr th {\n",
       "        vertical-align: top;\n",
       "    }\n",
       "\n",
       "    .dataframe thead th {\n",
       "        text-align: right;\n",
       "    }\n",
       "</style>\n",
       "<table border=\"1\" class=\"dataframe\">\n",
       "  <thead>\n",
       "    <tr style=\"text-align: right;\">\n",
       "      <th></th>\n",
       "      <th>risk_segment</th>\n",
       "      <th>risk_score</th>\n",
       "    </tr>\n",
       "  </thead>\n",
       "  <tbody>\n",
       "    <tr>\n",
       "      <th>count</th>\n",
       "      <td>136.000000</td>\n",
       "      <td>136.000000</td>\n",
       "    </tr>\n",
       "    <tr>\n",
       "      <th>mean</th>\n",
       "      <td>2.191176</td>\n",
       "      <td>2.514706</td>\n",
       "    </tr>\n",
       "    <tr>\n",
       "      <th>std</th>\n",
       "      <td>0.638455</td>\n",
       "      <td>2.007339</td>\n",
       "    </tr>\n",
       "    <tr>\n",
       "      <th>min</th>\n",
       "      <td>1.000000</td>\n",
       "      <td>0.000000</td>\n",
       "    </tr>\n",
       "    <tr>\n",
       "      <th>25%</th>\n",
       "      <td>2.000000</td>\n",
       "      <td>0.000000</td>\n",
       "    </tr>\n",
       "    <tr>\n",
       "      <th>50%</th>\n",
       "      <td>2.000000</td>\n",
       "      <td>3.000000</td>\n",
       "    </tr>\n",
       "    <tr>\n",
       "      <th>75%</th>\n",
       "      <td>3.000000</td>\n",
       "      <td>3.000000</td>\n",
       "    </tr>\n",
       "    <tr>\n",
       "      <th>max</th>\n",
       "      <td>3.000000</td>\n",
       "      <td>9.000000</td>\n",
       "    </tr>\n",
       "  </tbody>\n",
       "</table>\n",
       "</div>"
      ],
      "text/plain": [
       "       risk_segment  risk_score\n",
       "count    136.000000  136.000000\n",
       "mean       2.191176    2.514706\n",
       "std        0.638455    2.007339\n",
       "min        1.000000    0.000000\n",
       "25%        2.000000    0.000000\n",
       "50%        2.000000    3.000000\n",
       "75%        3.000000    3.000000\n",
       "max        3.000000    9.000000"
      ]
     },
     "execution_count": 57,
     "metadata": {},
     "output_type": "execute_result"
    }
   ],
   "source": [
    "## Average risk segment and score\n",
    "scorecard_app_world.loc[scorecard_app_world['scorecard_approved'] == 1][['risk_segment', 'risk_score']].describe()"
   ]
  },
  {
   "cell_type": "markdown",
   "metadata": {},
   "source": [
    "So the average risk_segment is slightly above 2 and the average risk score < 5, so that gives us an average limit of 10% that would be suggested by the scorecard"
   ]
  },
  {
   "cell_type": "code",
   "execution_count": 58,
   "metadata": {},
   "outputs": [
    {
     "data": {
      "text/html": [
       "<div>\n",
       "<style scoped>\n",
       "    .dataframe tbody tr th:only-of-type {\n",
       "        vertical-align: middle;\n",
       "    }\n",
       "\n",
       "    .dataframe tbody tr th {\n",
       "        vertical-align: top;\n",
       "    }\n",
       "\n",
       "    .dataframe thead th {\n",
       "        text-align: right;\n",
       "    }\n",
       "</style>\n",
       "<table border=\"1\" class=\"dataframe\">\n",
       "  <thead>\n",
       "    <tr style=\"text-align: right;\">\n",
       "      <th></th>\n",
       "      <th>estimated_spend</th>\n",
       "      <th>gla</th>\n",
       "      <th>approved_limit</th>\n",
       "    </tr>\n",
       "  </thead>\n",
       "  <tbody>\n",
       "    <tr>\n",
       "      <th>count</th>\n",
       "      <td>136.000000</td>\n",
       "      <td>136.000000</td>\n",
       "      <td>136.000000</td>\n",
       "    </tr>\n",
       "    <tr>\n",
       "      <th>mean</th>\n",
       "      <td>31602.308824</td>\n",
       "      <td>132602.951324</td>\n",
       "      <td>13260.295132</td>\n",
       "    </tr>\n",
       "    <tr>\n",
       "      <th>std</th>\n",
       "      <td>41540.313821</td>\n",
       "      <td>50776.844235</td>\n",
       "      <td>5077.684424</td>\n",
       "    </tr>\n",
       "    <tr>\n",
       "      <th>min</th>\n",
       "      <td>1200.000000</td>\n",
       "      <td>75000.640000</td>\n",
       "      <td>7500.064000</td>\n",
       "    </tr>\n",
       "    <tr>\n",
       "      <th>25%</th>\n",
       "      <td>10000.000000</td>\n",
       "      <td>89513.180000</td>\n",
       "      <td>8951.318000</td>\n",
       "    </tr>\n",
       "    <tr>\n",
       "      <th>50%</th>\n",
       "      <td>12562.500000</td>\n",
       "      <td>116956.500000</td>\n",
       "      <td>11695.650000</td>\n",
       "    </tr>\n",
       "    <tr>\n",
       "      <th>75%</th>\n",
       "      <td>30000.000000</td>\n",
       "      <td>169064.247500</td>\n",
       "      <td>16906.424750</td>\n",
       "    </tr>\n",
       "    <tr>\n",
       "      <th>max</th>\n",
       "      <td>150000.000000</td>\n",
       "      <td>249969.000000</td>\n",
       "      <td>24996.900000</td>\n",
       "    </tr>\n",
       "  </tbody>\n",
       "</table>\n",
       "</div>"
      ],
      "text/plain": [
       "       estimated_spend            gla  approved_limit\n",
       "count       136.000000     136.000000      136.000000\n",
       "mean      31602.308824  132602.951324    13260.295132\n",
       "std       41540.313821   50776.844235     5077.684424\n",
       "min        1200.000000   75000.640000     7500.064000\n",
       "25%       10000.000000   89513.180000     8951.318000\n",
       "50%       12562.500000  116956.500000    11695.650000\n",
       "75%       30000.000000  169064.247500    16906.424750\n",
       "max      150000.000000  249969.000000    24996.900000"
      ]
     },
     "execution_count": 58,
     "metadata": {},
     "output_type": "execute_result"
    }
   ],
   "source": [
    "## Expected spend from these applications\n",
    "scorecard_app_world.loc[scorecard_app_world['scorecard_approved'] == 1][['estimated_spend', 'gla', 'approved_limit']].describe()"
   ]
  },
  {
   "cell_type": "markdown",
   "metadata": {},
   "source": [
    "Looks like the **mean estimated spend** is 32k whereas the **mean approved_limit** is 13k.\n",
    "- Lets say that the average application spends somewhere in between, so 25k * 100 applications = 2.5M in expected incremental monthly spend\n",
    "\n",
    "#### What does this mean in terms of loss rates?\n",
    "- This means on 2.5M of incremental monthly spend we are making ~10k per month (2.5M * 40bps of profit)\n",
    "- So, **for this population to support itself**, we can take, well 40bps of losses on the $ volume, which is < 1DQ per month (not so good)\n",
    "- Given GS covenants, **60% of this population** would have to go almost entirely delinquent to have an impact on a monthly spend volume: 200M * 75bps = 1.5M -> 60%\n",
    "- This should be projected further"
   ]
  },
  {
   "cell_type": "markdown",
   "metadata": {},
   "source": [
    "#### What would the world look like we only approve apps with lower risk scores?"
   ]
  },
  {
   "cell_type": "code",
   "execution_count": 59,
   "metadata": {},
   "outputs": [
    {
     "data": {
      "text/plain": [
       "3.0    81\n",
       "0.0    40\n",
       "6.0    12\n",
       "9.0     3\n",
       "Name: risk_score, dtype: int64"
      ]
     },
     "execution_count": 59,
     "metadata": {},
     "output_type": "execute_result"
    }
   ],
   "source": [
    "scorecard_app_world.loc[scorecard_app_world['scorecard_approved'] == 1]['risk_score'].value_counts()"
   ]
  },
  {
   "cell_type": "markdown",
   "metadata": {},
   "source": [
    "41 incremental approvals on 0 score, 84 (81-53*0.7+40 - manual conneciotn score) on a risk score of 3 or below"
   ]
  },
  {
   "cell_type": "markdown",
   "metadata": {},
   "source": [
    "#### What if we bring inflows into the picture?\n",
    "\n",
    "- unfortunately mostly nulls"
   ]
  },
  {
   "cell_type": "code",
   "execution_count": 60,
   "metadata": {},
   "outputs": [
    {
     "data": {
      "text/plain": [
       "connection_type    inflow_buckets\n",
       "Manual Connection  error             54\n",
       "Direct Connection  d. 50k - 100k     18\n",
       "                   c. 25k - 50k      17\n",
       "                   e. 100k - 500k    14\n",
       "                   error             11\n",
       "                   b. 10k - 25k       7\n",
       "                   a. 0 - 10k         7\n",
       "                   f. 500k+           3\n",
       "Manual Connection  b. 10k - 25k       2\n",
       "                   a. 0 - 10k         2\n",
       "                   d. 50k - 100k      1\n",
       "dtype: int64"
      ]
     },
     "execution_count": 60,
     "metadata": {},
     "output_type": "execute_result"
    }
   ],
   "source": [
    "scorecard_app_world.loc[scorecard_app_world['scorecard_approved'] == 1][['connection_type','inflow_buckets']].value_counts()"
   ]
  },
  {
   "cell_type": "markdown",
   "metadata": {},
   "source": [
    "#### Is the incremental spend worth the servicing costs?\n",
    "\n",
    "- This is a discussion to be had and we can build a model"
   ]
  },
  {
   "cell_type": "markdown",
   "metadata": {},
   "source": [
    "### Results\n",
    "\n",
    "**Incremental Approvals**\n",
    "- If we choose to straight approve based on scorecard, we can expect to approve 100 incremental apps per month if we take September as proxy\n",
    "- If we narrow down to only apps with risk_score <= 3, we can expect to approve 85 businesses\n",
    "\n",
    "**Estimated Spend** \n",
    "- We can expect it to be close to 25k per month on average in this population, which means total profit of ~10k at 100 customers on 40bps of profits - **is this worth it?**\n",
    "- For the population to support itslef, we can have <1DQ per month. How should we think of this? How can we estimate DQ? Sensitivity\n",
    "\n",
    "**Open Questions**\n",
    "- How do we take into account servicing cost of these incremental businesses vs the expected profit?"
   ]
  },
  {
   "cell_type": "markdown",
   "metadata": {},
   "source": [
    "## 3) Inflow vs Outflow Policy"
   ]
  },
  {
   "cell_type": "code",
   "execution_count": 61,
   "metadata": {},
   "outputs": [
    {
     "data": {
      "text/html": [
       "<div>\n",
       "<style scoped>\n",
       "    .dataframe tbody tr th:only-of-type {\n",
       "        vertical-align: middle;\n",
       "    }\n",
       "\n",
       "    .dataframe tbody tr th {\n",
       "        vertical-align: top;\n",
       "    }\n",
       "\n",
       "    .dataframe thead th {\n",
       "        text-align: right;\n",
       "    }\n",
       "</style>\n",
       "<table border=\"1\" class=\"dataframe\">\n",
       "  <thead>\n",
       "    <tr style=\"text-align: right;\">\n",
       "      <th></th>\n",
       "      <th>gla</th>\n",
       "      <th>avg_3_month_revenue</th>\n",
       "      <th>competitor_avg_3_month_spend</th>\n",
       "      <th>thirty_day_card_spend</th>\n",
       "    </tr>\n",
       "  </thead>\n",
       "  <tbody>\n",
       "    <tr>\n",
       "      <th>1</th>\n",
       "      <td>2669196.82</td>\n",
       "      <td>3.239558e+05</td>\n",
       "      <td>30663.466667</td>\n",
       "      <td>80.00</td>\n",
       "    </tr>\n",
       "    <tr>\n",
       "      <th>2</th>\n",
       "      <td>50037.50</td>\n",
       "      <td>5.003911e+04</td>\n",
       "      <td>NaN</td>\n",
       "      <td>2239.85</td>\n",
       "    </tr>\n",
       "    <tr>\n",
       "      <th>26</th>\n",
       "      <td>1813472.71</td>\n",
       "      <td>5.426823e+04</td>\n",
       "      <td>2718.380000</td>\n",
       "      <td>25447.25</td>\n",
       "    </tr>\n",
       "    <tr>\n",
       "      <th>41</th>\n",
       "      <td>1470424.42</td>\n",
       "      <td>1.884089e+06</td>\n",
       "      <td>89150.146667</td>\n",
       "      <td>31816.35</td>\n",
       "    </tr>\n",
       "    <tr>\n",
       "      <th>75</th>\n",
       "      <td>312818.91</td>\n",
       "      <td>6.244707e+04</td>\n",
       "      <td>2790.183333</td>\n",
       "      <td>8010.45</td>\n",
       "    </tr>\n",
       "    <tr>\n",
       "      <th>...</th>\n",
       "      <td>...</td>\n",
       "      <td>...</td>\n",
       "      <td>...</td>\n",
       "      <td>...</td>\n",
       "    </tr>\n",
       "    <tr>\n",
       "      <th>22549</th>\n",
       "      <td>83515.99</td>\n",
       "      <td>1.848067e+04</td>\n",
       "      <td>14739.036667</td>\n",
       "      <td>NaN</td>\n",
       "    </tr>\n",
       "    <tr>\n",
       "      <th>22550</th>\n",
       "      <td>48.53</td>\n",
       "      <td>3.725865e+03</td>\n",
       "      <td>536.835000</td>\n",
       "      <td>NaN</td>\n",
       "    </tr>\n",
       "    <tr>\n",
       "      <th>22551</th>\n",
       "      <td>156.88</td>\n",
       "      <td>1.739553e+03</td>\n",
       "      <td>NaN</td>\n",
       "      <td>NaN</td>\n",
       "    </tr>\n",
       "    <tr>\n",
       "      <th>22552</th>\n",
       "      <td>-1019.36</td>\n",
       "      <td>1.645762e+05</td>\n",
       "      <td>63187.273333</td>\n",
       "      <td>NaN</td>\n",
       "    </tr>\n",
       "    <tr>\n",
       "      <th>22553</th>\n",
       "      <td>7150.27</td>\n",
       "      <td>3.665610e+04</td>\n",
       "      <td>267.666667</td>\n",
       "      <td>NaN</td>\n",
       "    </tr>\n",
       "  </tbody>\n",
       "</table>\n",
       "<p>4951 rows × 4 columns</p>\n",
       "</div>"
      ],
      "text/plain": [
       "              gla  avg_3_month_revenue  competitor_avg_3_month_spend  \\\n",
       "1      2669196.82         3.239558e+05                  30663.466667   \n",
       "2        50037.50         5.003911e+04                           NaN   \n",
       "26     1813472.71         5.426823e+04                   2718.380000   \n",
       "41     1470424.42         1.884089e+06                  89150.146667   \n",
       "75      312818.91         6.244707e+04                   2790.183333   \n",
       "...           ...                  ...                           ...   \n",
       "22549    83515.99         1.848067e+04                  14739.036667   \n",
       "22550       48.53         3.725865e+03                    536.835000   \n",
       "22551      156.88         1.739553e+03                           NaN   \n",
       "22552    -1019.36         1.645762e+05                  63187.273333   \n",
       "22553     7150.27         3.665610e+04                    267.666667   \n",
       "\n",
       "       thirty_day_card_spend  \n",
       "1                      80.00  \n",
       "2                    2239.85  \n",
       "26                  25447.25  \n",
       "41                  31816.35  \n",
       "75                   8010.45  \n",
       "...                      ...  \n",
       "22549                    NaN  \n",
       "22550                    NaN  \n",
       "22551                    NaN  \n",
       "22552                    NaN  \n",
       "22553                    NaN  \n",
       "\n",
       "[4951 rows x 4 columns]"
      ]
     },
     "execution_count": 61,
     "metadata": {},
     "output_type": "execute_result"
    }
   ],
   "source": [
    "submitted = df.loc[(df['fa_status'] != 'Pending') & (df['fa_status'] != '') & (df['fa_rejection_reason'] != 'Suspected fraud')]\n",
    "inflow_apps = submitted.loc[(submitted['avg_3_month_revenue'].notnull()) & (submitted['gla_buckets'] != 'error')]\n",
    "inflow_apps[['gla', 'avg_3_month_revenue', 'competitor_avg_3_month_spend', 'thirty_day_card_spend']]"
   ]
  },
  {
   "cell_type": "code",
   "execution_count": 62,
   "metadata": {},
   "outputs": [],
   "source": [
    "# inflow_apps = submitted.loc[(submitted['avg_3_month_revenue'].notnull()) & (submitted['gla_buckets'] != 'error')]\n",
    "# inflow_apps[['gla_buckets','inflow_buckets']].value_counts()"
   ]
  },
  {
   "cell_type": "markdown",
   "metadata": {},
   "source": [
    "#### Thirty Day Spend vs Inflows"
   ]
  },
  {
   "cell_type": "code",
   "execution_count": 63,
   "metadata": {},
   "outputs": [
    {
     "data": {
      "text/plain": [
       "(596, 35)"
      ]
     },
     "execution_count": 63,
     "metadata": {},
     "output_type": "execute_result"
    },
    {
     "data": {
      "image/png": "[encoded data removed]",
      "text/plain": [
       "<Figure size 432x288 with 1 Axes>"
      ]
     },
     "metadata": {
      "needs_background": "light"
     },
     "output_type": "display_data"
    }
   ],
   "source": [
    "cond_0 = inflow_apps['avg_3_month_revenue'] < 1000000\n",
    "cond_1 = inflow_apps['fa_status'] == 'Admin Approved'\n",
    "cond_2 = inflow_apps['thirty_day_card_spend'] < 100000\n",
    "cond_3 = inflow_apps['tenure'] >= 3\n",
    "\n",
    "x = inflow_apps.loc[(cond_0) & (cond_1) & (cond_2) & (cond_3)]['avg_3_month_revenue']\n",
    "y = inflow_apps.loc[(cond_0) & (cond_1) & (cond_2) & (cond_3)]['thirty_day_card_spend']\n",
    "plt.scatter(x, y)\n",
    "plt.xlabel('inflows')\n",
    "plt.ylabel('30-day spend')\n",
    "\n",
    "m, b = np.polyfit(x, y, 1)\n",
    "plt.plot(x, m*x + b)\n",
    "\n",
    "inflow_apps.loc[(cond_0) & (cond_1) & (cond_2) & (cond_3)].shape"
   ]
  },
  {
   "cell_type": "markdown",
   "metadata": {},
   "source": [
    "####  Competitor Spend vs Inflows"
   ]
  },
  {
   "cell_type": "code",
   "execution_count": 64,
   "metadata": {},
   "outputs": [
    {
     "data": {
      "text/plain": [
       "(753, 35)"
      ]
     },
     "execution_count": 64,
     "metadata": {},
     "output_type": "execute_result"
    },
    {
     "data": {
      "image/png": "[encoded data removed]",
      "text/plain": [
       "<Figure size 432x288 with 1 Axes>"
      ]
     },
     "metadata": {
      "needs_background": "light"
     },
     "output_type": "display_data"
    }
   ],
   "source": [
    "cond = inflow_apps['competitor_avg_3_month_spend'] < 150000\n",
    "cond_1 = inflow_apps['competitor_avg_3_month_spend'] > 10000\n",
    "cond_2 = inflow_apps['avg_3_month_revenue'] > 10000\n",
    "x = inflow_apps.loc[(inflow_apps['avg_3_month_revenue'] < 1000000) & (inflow_apps['competitor_avg_3_month_spend'].notnull() & (cond) & (cond_1) & (cond_2))]['avg_3_month_revenue']\n",
    "y = inflow_apps.loc[(inflow_apps['avg_3_month_revenue'] < 1000000) & (inflow_apps['competitor_avg_3_month_spend'].notnull() & (cond) & (cond_1) & (cond_2))]['competitor_avg_3_month_spend']\n",
    "plt.scatter(x, y)\n",
    "plt.xlabel('inflows')\n",
    "plt.ylabel('competitor_spend')\n",
    "\n",
    "m, b = np.polyfit(x, y, 1)\n",
    "plt.plot(x, m*x + b)\n",
    "\n",
    "inflow_apps.loc[(inflow_apps['avg_3_month_revenue'] < 1000000) & (inflow_apps['competitor_avg_3_month_spend'].notnull() & (cond) & (cond_1) & (cond_2))].shape"
   ]
  },
  {
   "cell_type": "markdown",
   "metadata": {},
   "source": [
    "#### GLA vs Inflows"
   ]
  },
  {
   "cell_type": "code",
   "execution_count": 65,
   "metadata": {},
   "outputs": [
    {
     "data": {
      "text/plain": [
       "(2030, 35)"
      ]
     },
     "execution_count": 65,
     "metadata": {},
     "output_type": "execute_result"
    },
    {
     "data": {
      "image/png": "[encoded data removed]",
      "text/plain": [
       "<Figure size 432x288 with 1 Axes>"
      ]
     },
     "metadata": {
      "needs_background": "light"
     },
     "output_type": "display_data"
    }
   ],
   "source": [
    "cond = inflow_apps['gla'] > 75000\n",
    "x = inflow_apps.loc[(inflow_apps['avg_3_month_revenue'] < 1000000) & (cond)]['avg_3_month_revenue']\n",
    "y = inflow_apps.loc[(inflow_apps['avg_3_month_revenue'] < 1000000) & (cond)]['gla']\n",
    "plt.scatter(x, y)\n",
    "plt.xlabel('inflows')\n",
    "plt.ylabel('gla')\n",
    "\n",
    "m, b = np.polyfit(x, y, 1)\n",
    "plt.plot(x, m*x + b)\n",
    "\n",
    "inflow_apps.loc[(inflow_apps['avg_3_month_revenue'] < 1000000) & (cond)].shape"
   ]
  },
  {
   "cell_type": "markdown",
   "metadata": {},
   "source": [
    "### Lets looks at only apps in the 75k - 250k GLA range"
   ]
  },
  {
   "cell_type": "code",
   "execution_count": 66,
   "metadata": {},
   "outputs": [],
   "source": [
    "cond = submitted['gla_buckets'] == 'b. 75k - 250k'\n",
    "cond_1 = (submitted['avg_3_month_revenue'].notnull())\n",
    "cond_2 = inflow_apps['fa_status'] == 'Admin Approved'\n",
    "cond_3 = inflow_apps['fa_status'].isin(['Rejected', 'Withdrawn'])\n",
    "\n",
    "## Approved and Rejected frames\n",
    "approved_apps = submitted.loc[(cond) & (cond_1) & (cond_2)]\n",
    "rejected_apps = submitted.loc[(cond) & (cond_1) & (cond_3)]"
   ]
  },
  {
   "cell_type": "code",
   "execution_count": 67,
   "metadata": {},
   "outputs": [
    {
     "data": {
      "text/plain": [
       "(147, 3)"
      ]
     },
     "execution_count": 67,
     "metadata": {},
     "output_type": "execute_result"
    }
   ],
   "source": [
    "plot = rejected_apps[['gla', 'avg_3_month_revenue', 'competitor_avg_3_month_spend']].loc[(rejected_apps['competitor_avg_3_month_spend'].notnull()) \n",
    "                                                                                         & (rejected_apps['avg_3_month_revenue'] > 0) \n",
    "                                                                                         & (rejected_apps['avg_3_month_revenue'] < 100000)\n",
    "                                                                                        & (rejected_apps['competitor_avg_3_month_spend'] < 20000)]\n",
    "plot.shape"
   ]
  },
  {
   "cell_type": "code",
   "execution_count": 68,
   "metadata": {},
   "outputs": [
    {
     "data": {
      "text/plain": [
       "[<matplotlib.lines.Line2D at 0x7ff0596194f0>]"
      ]
     },
     "execution_count": 68,
     "metadata": {},
     "output_type": "execute_result"
    },
    {
     "data": {
      "image/png": "[encoded data removed]",
      "text/plain": [
       "<Figure size 432x288 with 1 Axes>"
      ]
     },
     "metadata": {
      "needs_background": "light"
     },
     "output_type": "display_data"
    }
   ],
   "source": [
    "x = plot['avg_3_month_revenue']\n",
    "y = plot['gla']\n",
    "z = plot['competitor_avg_3_month_spend']\n",
    "\n",
    "plt.xlabel('inflows')\n",
    "plt.ylabel('gla')\n",
    "\n",
    "plt.scatter(x,y)\n",
    "\n",
    "m, b = np.polyfit(x, y, 1)\n",
    "plt.plot(x, m*x + b)"
   ]
  },
  {
   "cell_type": "code",
   "execution_count": 69,
   "metadata": {},
   "outputs": [
    {
     "data": {
      "text/plain": [
       "[<matplotlib.lines.Line2D at 0x7ff0590aa7f0>]"
      ]
     },
     "execution_count": 69,
     "metadata": {},
     "output_type": "execute_result"
    },
    {
     "data": {
      "image/png": "[encoded data removed]",
      "text/plain": [
       "<Figure size 432x288 with 1 Axes>"
      ]
     },
     "metadata": {
      "needs_background": "light"
     },
     "output_type": "display_data"
    }
   ],
   "source": [
    "x = plot['avg_3_month_revenue']\n",
    "y = plot['gla']\n",
    "z = plot['competitor_avg_3_month_spend']\n",
    "\n",
    "plt.xlabel('inflows')\n",
    "plt.ylabel('competitor_spend')\n",
    "\n",
    "plt.scatter(x,z)\n",
    "\n",
    "m, b = np.polyfit(x, y, 1)\n",
    "plt.plot(x, m*x + b)"
   ]
  },
  {
   "cell_type": "code",
   "execution_count": 70,
   "metadata": {},
   "outputs": [
    {
     "data": {
      "text/plain": [
       "(259, 35)"
      ]
     },
     "execution_count": 70,
     "metadata": {},
     "output_type": "execute_result"
    }
   ],
   "source": [
    "approved_apps.shape"
   ]
  },
  {
   "cell_type": "code",
   "execution_count": 71,
   "metadata": {},
   "outputs": [
    {
     "data": {
      "text/plain": [
       "(132, 35)"
      ]
     },
     "execution_count": 71,
     "metadata": {},
     "output_type": "execute_result"
    },
    {
     "data": {
      "image/png": "[encoded data removed]",
      "text/plain": [
       "<Figure size 432x288 with 1 Axes>"
      ]
     },
     "metadata": {
      "needs_background": "light"
     },
     "output_type": "display_data"
    }
   ],
   "source": [
    "plot = approved_apps.loc[(approved_apps['avg_3_month_revenue']< 500000) & approved_apps['tenure'] >= 1]\n",
    "\n",
    "y = plot['thirty_day_card_spend']\n",
    "x = plot['avg_3_month_revenue']\n",
    "plt.scatter(x,y)\n",
    "plt.xlabel('inflows')\n",
    "plt.ylabel('card_spend')\n",
    "\n",
    "plot.shape"
   ]
  },
  {
   "cell_type": "code",
   "execution_count": null,
   "metadata": {},
   "outputs": [],
   "source": []
  }
 ],
 "metadata": {
  "kernelspec": {
   "display_name": "Python 3",
   "language": "python",
   "name": "python3"
  },
  "language_info": {
   "codemirror_mode": {
    "name": "ipython",
    "version": 3
   },
   "file_extension": ".py",
   "mimetype": "text/x-python",
   "name": "python",
   "nbconvert_exporter": "python",
   "pygments_lexer": "ipython3",
   "version": "3.8.5"
  }
 },
 "nbformat": 4,
 "nbformat_minor": 4
}
